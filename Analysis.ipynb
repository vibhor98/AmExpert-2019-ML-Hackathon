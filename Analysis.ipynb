{
 "cells": [
  {
   "cell_type": "markdown",
   "metadata": {},
   "source": [
    "# AmExpert 2019"
   ]
  },
  {
   "cell_type": "code",
   "execution_count": 2,
   "metadata": {},
   "outputs": [],
   "source": [
    "# Importing necessary python packages.\n",
    "import pandas as pd\n",
    "import numpy as np\n",
    "import seaborn as sns\n",
    "from sklearn.model_selection import train_test_split, KFold, StratifiedKFold\n",
    "from sklearn.preprocessing import LabelEncoder, OneHotEncoder, normalize, StandardScaler\n",
    "from sklearn.linear_model import LogisticRegression\n",
    "from catboost import CatBoostRegressor, CatBoostClassifier, Pool\n",
    "from lightgbm import LGBMRegressor, LGBMClassifier\n",
    "from sklearn.ensemble import RandomForestRegressor, RandomForestClassifier, GradientBoostingRegressor\n",
    "from sklearn.metrics import roc_auc_score\n",
    "from scipy.special import logit\n",
    "import matplotlib.pyplot as plt\n",
    "\n",
    "%matplotlib inline"
   ]
  },
  {
   "cell_type": "code",
   "execution_count": 3,
   "metadata": {},
   "outputs": [
    {
     "data": {
      "text/html": [
       "<div>\n",
       "<style scoped>\n",
       "    .dataframe tbody tr th:only-of-type {\n",
       "        vertical-align: middle;\n",
       "    }\n",
       "\n",
       "    .dataframe tbody tr th {\n",
       "        vertical-align: top;\n",
       "    }\n",
       "\n",
       "    .dataframe thead th {\n",
       "        text-align: right;\n",
       "    }\n",
       "</style>\n",
       "<table border=\"1\" class=\"dataframe\">\n",
       "  <thead>\n",
       "    <tr style=\"text-align: right;\">\n",
       "      <th></th>\n",
       "      <th>id</th>\n",
       "      <th>campaign_id</th>\n",
       "      <th>coupon_id</th>\n",
       "      <th>customer_id</th>\n",
       "      <th>redemption_status</th>\n",
       "    </tr>\n",
       "  </thead>\n",
       "  <tbody>\n",
       "    <tr>\n",
       "      <th>0</th>\n",
       "      <td>1</td>\n",
       "      <td>13</td>\n",
       "      <td>27</td>\n",
       "      <td>1053</td>\n",
       "      <td>0</td>\n",
       "    </tr>\n",
       "    <tr>\n",
       "      <th>1</th>\n",
       "      <td>2</td>\n",
       "      <td>13</td>\n",
       "      <td>116</td>\n",
       "      <td>48</td>\n",
       "      <td>0</td>\n",
       "    </tr>\n",
       "    <tr>\n",
       "      <th>2</th>\n",
       "      <td>6</td>\n",
       "      <td>9</td>\n",
       "      <td>635</td>\n",
       "      <td>205</td>\n",
       "      <td>0</td>\n",
       "    </tr>\n",
       "    <tr>\n",
       "      <th>3</th>\n",
       "      <td>7</td>\n",
       "      <td>13</td>\n",
       "      <td>644</td>\n",
       "      <td>1050</td>\n",
       "      <td>0</td>\n",
       "    </tr>\n",
       "    <tr>\n",
       "      <th>4</th>\n",
       "      <td>9</td>\n",
       "      <td>8</td>\n",
       "      <td>1017</td>\n",
       "      <td>1489</td>\n",
       "      <td>0</td>\n",
       "    </tr>\n",
       "  </tbody>\n",
       "</table>\n",
       "</div>"
      ],
      "text/plain": [
       "   id  campaign_id  coupon_id  customer_id  redemption_status\n",
       "0   1           13         27         1053                  0\n",
       "1   2           13        116           48                  0\n",
       "2   6            9        635          205                  0\n",
       "3   7           13        644         1050                  0\n",
       "4   9            8       1017         1489                  0"
      ]
     },
     "execution_count": 3,
     "metadata": {},
     "output_type": "execute_result"
    }
   ],
   "source": [
    "train = pd.read_csv('./train_AUpWtIz/train.csv')\n",
    "train.head()"
   ]
  },
  {
   "cell_type": "code",
   "execution_count": 4,
   "metadata": {},
   "outputs": [
    {
     "data": {
      "text/plain": [
       "1428"
      ]
     },
     "execution_count": 4,
     "metadata": {},
     "output_type": "execute_result"
    }
   ],
   "source": [
    "len(set(train['customer_id']))"
   ]
  },
  {
   "cell_type": "code",
   "execution_count": 5,
   "metadata": {},
   "outputs": [
    {
     "data": {
      "text/plain": [
       "<matplotlib.axes._subplots.AxesSubplot at 0x11e2f0a58>"
      ]
     },
     "execution_count": 5,
     "metadata": {},
     "output_type": "execute_result"
    },
    {
     "data": {
      "image/png": "[encoded data removed]",
      "text/plain": [
       "<Figure size 432x288 with 1 Axes>"
      ]
     },
     "metadata": {},
     "output_type": "display_data"
    }
   ],
   "source": [
    "train.isna().sum()\n",
    "sns.countplot(x='redemption_status', data=train)"
   ]
  },
  {
   "cell_type": "markdown",
   "metadata": {},
   "source": [
    "Highly skewed towards **redemption_status = 0**. Positive class is just **0.9%**."
   ]
  },
  {
   "cell_type": "code",
   "execution_count": 6,
   "metadata": {},
   "outputs": [
    {
     "data": {
      "text/plain": [
       "(78369, 5)"
      ]
     },
     "execution_count": 6,
     "metadata": {},
     "output_type": "execute_result"
    }
   ],
   "source": [
    "train.shape"
   ]
  },
  {
   "cell_type": "code",
   "execution_count": 7,
   "metadata": {},
   "outputs": [
    {
     "data": {
      "text/plain": [
       "729"
      ]
     },
     "execution_count": 7,
     "metadata": {},
     "output_type": "execute_result"
    }
   ],
   "source": [
    "len(train.loc[train['redemption_status']==1])"
   ]
  },
  {
   "cell_type": "code",
   "execution_count": 8,
   "metadata": {},
   "outputs": [
    {
     "data": {
      "text/html": [
       "<div>\n",
       "<style scoped>\n",
       "    .dataframe tbody tr th:only-of-type {\n",
       "        vertical-align: middle;\n",
       "    }\n",
       "\n",
       "    .dataframe tbody tr th {\n",
       "        vertical-align: top;\n",
       "    }\n",
       "\n",
       "    .dataframe thead th {\n",
       "        text-align: right;\n",
       "    }\n",
       "</style>\n",
       "<table border=\"1\" class=\"dataframe\">\n",
       "  <thead>\n",
       "    <tr style=\"text-align: right;\">\n",
       "      <th></th>\n",
       "      <th>id</th>\n",
       "      <th>campaign_id</th>\n",
       "      <th>coupon_id</th>\n",
       "      <th>customer_id</th>\n",
       "    </tr>\n",
       "  </thead>\n",
       "  <tbody>\n",
       "    <tr>\n",
       "      <th>0</th>\n",
       "      <td>3</td>\n",
       "      <td>22</td>\n",
       "      <td>869</td>\n",
       "      <td>967</td>\n",
       "    </tr>\n",
       "    <tr>\n",
       "      <th>1</th>\n",
       "      <td>4</td>\n",
       "      <td>20</td>\n",
       "      <td>389</td>\n",
       "      <td>1566</td>\n",
       "    </tr>\n",
       "    <tr>\n",
       "      <th>2</th>\n",
       "      <td>5</td>\n",
       "      <td>22</td>\n",
       "      <td>981</td>\n",
       "      <td>510</td>\n",
       "    </tr>\n",
       "    <tr>\n",
       "      <th>3</th>\n",
       "      <td>8</td>\n",
       "      <td>25</td>\n",
       "      <td>1069</td>\n",
       "      <td>361</td>\n",
       "    </tr>\n",
       "    <tr>\n",
       "      <th>4</th>\n",
       "      <td>10</td>\n",
       "      <td>17</td>\n",
       "      <td>498</td>\n",
       "      <td>811</td>\n",
       "    </tr>\n",
       "  </tbody>\n",
       "</table>\n",
       "</div>"
      ],
      "text/plain": [
       "   id  campaign_id  coupon_id  customer_id\n",
       "0   3           22        869          967\n",
       "1   4           20        389         1566\n",
       "2   5           22        981          510\n",
       "3   8           25       1069          361\n",
       "4  10           17        498          811"
      ]
     },
     "execution_count": 8,
     "metadata": {},
     "output_type": "execute_result"
    }
   ],
   "source": [
    "test = pd.read_csv('./test_QyjYwdj.csv')\n",
    "test.head()"
   ]
  },
  {
   "cell_type": "code",
   "execution_count": 9,
   "metadata": {},
   "outputs": [
    {
     "name": "stdout",
     "output_type": "stream",
     "text": [
      "Test data shape: (50226, 4)\n"
     ]
    },
    {
     "data": {
      "text/plain": [
       "id             0\n",
       "campaign_id    0\n",
       "coupon_id      0\n",
       "customer_id    0\n",
       "dtype: int64"
      ]
     },
     "execution_count": 9,
     "metadata": {},
     "output_type": "execute_result"
    }
   ],
   "source": [
    "print('Test data shape:', test.shape)\n",
    "test.isna().sum()"
   ]
  },
  {
   "cell_type": "markdown",
   "metadata": {},
   "source": [
    "## Merging train and test set"
   ]
  },
  {
   "cell_type": "code",
   "execution_count": 10,
   "metadata": {},
   "outputs": [
    {
     "data": {
      "text/plain": [
       "(128595, 5)"
      ]
     },
     "execution_count": 10,
     "metadata": {},
     "output_type": "execute_result"
    }
   ],
   "source": [
    "df_train = train.append(test, ignore_index=True)\n",
    "df_train.shape"
   ]
  },
  {
   "cell_type": "code",
   "execution_count": 11,
   "metadata": {},
   "outputs": [
    {
     "data": {
      "text/html": [
       "<div>\n",
       "<style scoped>\n",
       "    .dataframe tbody tr th:only-of-type {\n",
       "        vertical-align: middle;\n",
       "    }\n",
       "\n",
       "    .dataframe tbody tr th {\n",
       "        vertical-align: top;\n",
       "    }\n",
       "\n",
       "    .dataframe thead th {\n",
       "        text-align: right;\n",
       "    }\n",
       "</style>\n",
       "<table border=\"1\" class=\"dataframe\">\n",
       "  <thead>\n",
       "    <tr style=\"text-align: right;\">\n",
       "      <th></th>\n",
       "      <th>campaign_id</th>\n",
       "      <th>campaign_type</th>\n",
       "      <th>start_date</th>\n",
       "      <th>end_date</th>\n",
       "    </tr>\n",
       "  </thead>\n",
       "  <tbody>\n",
       "    <tr>\n",
       "      <th>0</th>\n",
       "      <td>24</td>\n",
       "      <td>Y</td>\n",
       "      <td>21/10/13</td>\n",
       "      <td>20/12/13</td>\n",
       "    </tr>\n",
       "    <tr>\n",
       "      <th>1</th>\n",
       "      <td>25</td>\n",
       "      <td>Y</td>\n",
       "      <td>21/10/13</td>\n",
       "      <td>22/11/13</td>\n",
       "    </tr>\n",
       "    <tr>\n",
       "      <th>2</th>\n",
       "      <td>20</td>\n",
       "      <td>Y</td>\n",
       "      <td>07/09/13</td>\n",
       "      <td>16/11/13</td>\n",
       "    </tr>\n",
       "    <tr>\n",
       "      <th>3</th>\n",
       "      <td>23</td>\n",
       "      <td>Y</td>\n",
       "      <td>08/10/13</td>\n",
       "      <td>15/11/13</td>\n",
       "    </tr>\n",
       "    <tr>\n",
       "      <th>4</th>\n",
       "      <td>21</td>\n",
       "      <td>Y</td>\n",
       "      <td>16/09/13</td>\n",
       "      <td>18/10/13</td>\n",
       "    </tr>\n",
       "  </tbody>\n",
       "</table>\n",
       "</div>"
      ],
      "text/plain": [
       "   campaign_id campaign_type start_date  end_date\n",
       "0           24             Y   21/10/13  20/12/13\n",
       "1           25             Y   21/10/13  22/11/13\n",
       "2           20             Y   07/09/13  16/11/13\n",
       "3           23             Y   08/10/13  15/11/13\n",
       "4           21             Y   16/09/13  18/10/13"
      ]
     },
     "execution_count": 11,
     "metadata": {},
     "output_type": "execute_result"
    }
   ],
   "source": [
    "camp_data = pd.read_csv('./train_AUpWtIz/campaign_data.csv')\n",
    "camp_data.head()"
   ]
  },
  {
   "cell_type": "code",
   "execution_count": 12,
   "metadata": {},
   "outputs": [
    {
     "data": {
      "text/html": [
       "<div>\n",
       "<style scoped>\n",
       "    .dataframe tbody tr th:only-of-type {\n",
       "        vertical-align: middle;\n",
       "    }\n",
       "\n",
       "    .dataframe tbody tr th {\n",
       "        vertical-align: top;\n",
       "    }\n",
       "\n",
       "    .dataframe thead th {\n",
       "        text-align: right;\n",
       "    }\n",
       "</style>\n",
       "<table border=\"1\" class=\"dataframe\">\n",
       "  <thead>\n",
       "    <tr style=\"text-align: right;\">\n",
       "      <th></th>\n",
       "      <th>coupon_id</th>\n",
       "      <th>item_id</th>\n",
       "    </tr>\n",
       "  </thead>\n",
       "  <tbody>\n",
       "    <tr>\n",
       "      <th>0</th>\n",
       "      <td>105</td>\n",
       "      <td>37</td>\n",
       "    </tr>\n",
       "    <tr>\n",
       "      <th>1</th>\n",
       "      <td>107</td>\n",
       "      <td>75</td>\n",
       "    </tr>\n",
       "    <tr>\n",
       "      <th>2</th>\n",
       "      <td>494</td>\n",
       "      <td>76</td>\n",
       "    </tr>\n",
       "    <tr>\n",
       "      <th>3</th>\n",
       "      <td>522</td>\n",
       "      <td>77</td>\n",
       "    </tr>\n",
       "    <tr>\n",
       "      <th>4</th>\n",
       "      <td>518</td>\n",
       "      <td>77</td>\n",
       "    </tr>\n",
       "  </tbody>\n",
       "</table>\n",
       "</div>"
      ],
      "text/plain": [
       "   coupon_id  item_id\n",
       "0        105       37\n",
       "1        107       75\n",
       "2        494       76\n",
       "3        522       77\n",
       "4        518       77"
      ]
     },
     "execution_count": 12,
     "metadata": {},
     "output_type": "execute_result"
    }
   ],
   "source": [
    "coupon_item_map = pd.read_csv('./train_AUpWtIz/coupon_item_mapping.csv')\n",
    "coupon_item_map.head()"
   ]
  },
  {
   "cell_type": "code",
   "execution_count": 13,
   "metadata": {},
   "outputs": [
    {
     "name": "stdout",
     "output_type": "stream",
     "text": [
      "(92663, 2)\n"
     ]
    },
    {
     "data": {
      "text/plain": [
       "1116"
      ]
     },
     "execution_count": 13,
     "metadata": {},
     "output_type": "execute_result"
    }
   ],
   "source": [
    "print(coupon_item_map.shape)\n",
    "len(set(coupon_item_map['coupon_id']))"
   ]
  },
  {
   "cell_type": "code",
   "execution_count": 14,
   "metadata": {},
   "outputs": [
    {
     "data": {
      "text/html": [
       "<div>\n",
       "<style scoped>\n",
       "    .dataframe tbody tr th:only-of-type {\n",
       "        vertical-align: middle;\n",
       "    }\n",
       "\n",
       "    .dataframe tbody tr th {\n",
       "        vertical-align: top;\n",
       "    }\n",
       "\n",
       "    .dataframe thead th {\n",
       "        text-align: right;\n",
       "    }\n",
       "</style>\n",
       "<table border=\"1\" class=\"dataframe\">\n",
       "  <thead>\n",
       "    <tr style=\"text-align: right;\">\n",
       "      <th></th>\n",
       "      <th>item_id</th>\n",
       "      <th>brand</th>\n",
       "      <th>brand_type</th>\n",
       "      <th>category</th>\n",
       "    </tr>\n",
       "  </thead>\n",
       "  <tbody>\n",
       "    <tr>\n",
       "      <th>0</th>\n",
       "      <td>1</td>\n",
       "      <td>1</td>\n",
       "      <td>Established</td>\n",
       "      <td>Grocery</td>\n",
       "    </tr>\n",
       "    <tr>\n",
       "      <th>1</th>\n",
       "      <td>2</td>\n",
       "      <td>1</td>\n",
       "      <td>Established</td>\n",
       "      <td>Miscellaneous</td>\n",
       "    </tr>\n",
       "    <tr>\n",
       "      <th>2</th>\n",
       "      <td>3</td>\n",
       "      <td>56</td>\n",
       "      <td>Local</td>\n",
       "      <td>Bakery</td>\n",
       "    </tr>\n",
       "    <tr>\n",
       "      <th>3</th>\n",
       "      <td>4</td>\n",
       "      <td>56</td>\n",
       "      <td>Local</td>\n",
       "      <td>Grocery</td>\n",
       "    </tr>\n",
       "    <tr>\n",
       "      <th>4</th>\n",
       "      <td>5</td>\n",
       "      <td>56</td>\n",
       "      <td>Local</td>\n",
       "      <td>Grocery</td>\n",
       "    </tr>\n",
       "  </tbody>\n",
       "</table>\n",
       "</div>"
      ],
      "text/plain": [
       "   item_id  brand   brand_type       category\n",
       "0        1      1  Established        Grocery\n",
       "1        2      1  Established  Miscellaneous\n",
       "2        3     56        Local         Bakery\n",
       "3        4     56        Local        Grocery\n",
       "4        5     56        Local        Grocery"
      ]
     },
     "execution_count": 14,
     "metadata": {},
     "output_type": "execute_result"
    }
   ],
   "source": [
    "item_data = pd.read_csv('./train_AUpWtIz/item_data.csv')\n",
    "item_data.head()"
   ]
  },
  {
   "cell_type": "code",
   "execution_count": 15,
   "metadata": {},
   "outputs": [],
   "source": [
    "df_train = df_train.merge(camp_data, on='campaign_id', how='left')"
   ]
  },
  {
   "cell_type": "code",
   "execution_count": 16,
   "metadata": {},
   "outputs": [
    {
     "data": {
      "text/html": [
       "<div>\n",
       "<style scoped>\n",
       "    .dataframe tbody tr th:only-of-type {\n",
       "        vertical-align: middle;\n",
       "    }\n",
       "\n",
       "    .dataframe tbody tr th {\n",
       "        vertical-align: top;\n",
       "    }\n",
       "\n",
       "    .dataframe thead th {\n",
       "        text-align: right;\n",
       "    }\n",
       "</style>\n",
       "<table border=\"1\" class=\"dataframe\">\n",
       "  <thead>\n",
       "    <tr style=\"text-align: right;\">\n",
       "      <th></th>\n",
       "      <th>campaign_id</th>\n",
       "      <th>coupon_id</th>\n",
       "      <th>customer_id</th>\n",
       "      <th>id</th>\n",
       "      <th>redemption_status</th>\n",
       "      <th>campaign_type</th>\n",
       "      <th>start_date</th>\n",
       "      <th>end_date</th>\n",
       "    </tr>\n",
       "  </thead>\n",
       "  <tbody>\n",
       "    <tr>\n",
       "      <th>0</th>\n",
       "      <td>13</td>\n",
       "      <td>27</td>\n",
       "      <td>1053</td>\n",
       "      <td>1</td>\n",
       "      <td>0.0</td>\n",
       "      <td>X</td>\n",
       "      <td>19/05/13</td>\n",
       "      <td>05/07/13</td>\n",
       "    </tr>\n",
       "    <tr>\n",
       "      <th>1</th>\n",
       "      <td>13</td>\n",
       "      <td>116</td>\n",
       "      <td>48</td>\n",
       "      <td>2</td>\n",
       "      <td>0.0</td>\n",
       "      <td>X</td>\n",
       "      <td>19/05/13</td>\n",
       "      <td>05/07/13</td>\n",
       "    </tr>\n",
       "    <tr>\n",
       "      <th>2</th>\n",
       "      <td>9</td>\n",
       "      <td>635</td>\n",
       "      <td>205</td>\n",
       "      <td>6</td>\n",
       "      <td>0.0</td>\n",
       "      <td>Y</td>\n",
       "      <td>11/03/13</td>\n",
       "      <td>12/04/13</td>\n",
       "    </tr>\n",
       "    <tr>\n",
       "      <th>3</th>\n",
       "      <td>13</td>\n",
       "      <td>644</td>\n",
       "      <td>1050</td>\n",
       "      <td>7</td>\n",
       "      <td>0.0</td>\n",
       "      <td>X</td>\n",
       "      <td>19/05/13</td>\n",
       "      <td>05/07/13</td>\n",
       "    </tr>\n",
       "    <tr>\n",
       "      <th>4</th>\n",
       "      <td>8</td>\n",
       "      <td>1017</td>\n",
       "      <td>1489</td>\n",
       "      <td>9</td>\n",
       "      <td>0.0</td>\n",
       "      <td>X</td>\n",
       "      <td>16/02/13</td>\n",
       "      <td>05/04/13</td>\n",
       "    </tr>\n",
       "  </tbody>\n",
       "</table>\n",
       "</div>"
      ],
      "text/plain": [
       "   campaign_id  coupon_id  customer_id  id  redemption_status campaign_type  \\\n",
       "0           13         27         1053   1                0.0             X   \n",
       "1           13        116           48   2                0.0             X   \n",
       "2            9        635          205   6                0.0             Y   \n",
       "3           13        644         1050   7                0.0             X   \n",
       "4            8       1017         1489   9                0.0             X   \n",
       "\n",
       "  start_date  end_date  \n",
       "0   19/05/13  05/07/13  \n",
       "1   19/05/13  05/07/13  \n",
       "2   11/03/13  12/04/13  \n",
       "3   19/05/13  05/07/13  \n",
       "4   16/02/13  05/04/13  "
      ]
     },
     "execution_count": 16,
     "metadata": {},
     "output_type": "execute_result"
    }
   ],
   "source": [
    "df_train.head()"
   ]
  },
  {
   "cell_type": "code",
   "execution_count": 17,
   "metadata": {},
   "outputs": [
    {
     "data": {
      "text/plain": [
       "(128595, 8)"
      ]
     },
     "execution_count": 17,
     "metadata": {},
     "output_type": "execute_result"
    }
   ],
   "source": [
    "df_train.shape"
   ]
  },
  {
   "cell_type": "code",
   "execution_count": 18,
   "metadata": {},
   "outputs": [],
   "source": [
    "start_date_df = pd.to_datetime(df_train['start_date'])"
   ]
  },
  {
   "cell_type": "code",
   "execution_count": 19,
   "metadata": {},
   "outputs": [],
   "source": [
    "df_train['start_year'] = start_date_df.dt.year\n",
    "df_train['start_month'] = start_date_df.dt.month\n",
    "df_train['start_day'] = start_date_df.dt.day"
   ]
  },
  {
   "cell_type": "code",
   "execution_count": 20,
   "metadata": {},
   "outputs": [],
   "source": [
    "end_date_df = pd.to_datetime(df_train['end_date'])\n",
    "\n",
    "df_train['end_year'] = end_date_df.dt.year\n",
    "df_train['end_month'] = end_date_df.dt.month\n",
    "df_train['end_day'] = end_date_df.dt.day"
   ]
  },
  {
   "cell_type": "code",
   "execution_count": 21,
   "metadata": {},
   "outputs": [],
   "source": [
    "#df_train = df_train.merge(coupon_item_map, on='coupon_id', how='left')\n",
    "#df_train = df_train.merge(item_data, on='item_id', how='left')"
   ]
  },
  {
   "cell_type": "code",
   "execution_count": 21,
   "metadata": {},
   "outputs": [
    {
     "data": {
      "text/html": [
       "<div>\n",
       "<style scoped>\n",
       "    .dataframe tbody tr th:only-of-type {\n",
       "        vertical-align: middle;\n",
       "    }\n",
       "\n",
       "    .dataframe tbody tr th {\n",
       "        vertical-align: top;\n",
       "    }\n",
       "\n",
       "    .dataframe thead th {\n",
       "        text-align: right;\n",
       "    }\n",
       "</style>\n",
       "<table border=\"1\" class=\"dataframe\">\n",
       "  <thead>\n",
       "    <tr style=\"text-align: right;\">\n",
       "      <th></th>\n",
       "      <th>campaign_id</th>\n",
       "      <th>coupon_id</th>\n",
       "      <th>customer_id</th>\n",
       "      <th>id</th>\n",
       "      <th>redemption_status</th>\n",
       "      <th>campaign_type</th>\n",
       "      <th>start_date</th>\n",
       "      <th>end_date</th>\n",
       "      <th>start_year</th>\n",
       "      <th>start_month</th>\n",
       "      <th>start_day</th>\n",
       "      <th>end_year</th>\n",
       "      <th>end_month</th>\n",
       "      <th>end_day</th>\n",
       "    </tr>\n",
       "  </thead>\n",
       "  <tbody>\n",
       "    <tr>\n",
       "      <th>0</th>\n",
       "      <td>13</td>\n",
       "      <td>27</td>\n",
       "      <td>1053</td>\n",
       "      <td>1</td>\n",
       "      <td>0.0</td>\n",
       "      <td>X</td>\n",
       "      <td>19/05/13</td>\n",
       "      <td>05/07/13</td>\n",
       "      <td>2013</td>\n",
       "      <td>5</td>\n",
       "      <td>19</td>\n",
       "      <td>2013</td>\n",
       "      <td>5</td>\n",
       "      <td>7</td>\n",
       "    </tr>\n",
       "    <tr>\n",
       "      <th>1</th>\n",
       "      <td>13</td>\n",
       "      <td>116</td>\n",
       "      <td>48</td>\n",
       "      <td>2</td>\n",
       "      <td>0.0</td>\n",
       "      <td>X</td>\n",
       "      <td>19/05/13</td>\n",
       "      <td>05/07/13</td>\n",
       "      <td>2013</td>\n",
       "      <td>5</td>\n",
       "      <td>19</td>\n",
       "      <td>2013</td>\n",
       "      <td>5</td>\n",
       "      <td>7</td>\n",
       "    </tr>\n",
       "    <tr>\n",
       "      <th>2</th>\n",
       "      <td>9</td>\n",
       "      <td>635</td>\n",
       "      <td>205</td>\n",
       "      <td>6</td>\n",
       "      <td>0.0</td>\n",
       "      <td>Y</td>\n",
       "      <td>11/03/13</td>\n",
       "      <td>12/04/13</td>\n",
       "      <td>2013</td>\n",
       "      <td>11</td>\n",
       "      <td>3</td>\n",
       "      <td>2013</td>\n",
       "      <td>12</td>\n",
       "      <td>4</td>\n",
       "    </tr>\n",
       "    <tr>\n",
       "      <th>3</th>\n",
       "      <td>13</td>\n",
       "      <td>644</td>\n",
       "      <td>1050</td>\n",
       "      <td>7</td>\n",
       "      <td>0.0</td>\n",
       "      <td>X</td>\n",
       "      <td>19/05/13</td>\n",
       "      <td>05/07/13</td>\n",
       "      <td>2013</td>\n",
       "      <td>5</td>\n",
       "      <td>19</td>\n",
       "      <td>2013</td>\n",
       "      <td>5</td>\n",
       "      <td>7</td>\n",
       "    </tr>\n",
       "    <tr>\n",
       "      <th>4</th>\n",
       "      <td>8</td>\n",
       "      <td>1017</td>\n",
       "      <td>1489</td>\n",
       "      <td>9</td>\n",
       "      <td>0.0</td>\n",
       "      <td>X</td>\n",
       "      <td>16/02/13</td>\n",
       "      <td>05/04/13</td>\n",
       "      <td>2013</td>\n",
       "      <td>2</td>\n",
       "      <td>16</td>\n",
       "      <td>2013</td>\n",
       "      <td>5</td>\n",
       "      <td>4</td>\n",
       "    </tr>\n",
       "  </tbody>\n",
       "</table>\n",
       "</div>"
      ],
      "text/plain": [
       "   campaign_id  coupon_id  customer_id  id  redemption_status campaign_type  \\\n",
       "0           13         27         1053   1                0.0             X   \n",
       "1           13        116           48   2                0.0             X   \n",
       "2            9        635          205   6                0.0             Y   \n",
       "3           13        644         1050   7                0.0             X   \n",
       "4            8       1017         1489   9                0.0             X   \n",
       "\n",
       "  start_date  end_date  start_year  start_month  start_day  end_year  \\\n",
       "0   19/05/13  05/07/13        2013            5         19      2013   \n",
       "1   19/05/13  05/07/13        2013            5         19      2013   \n",
       "2   11/03/13  12/04/13        2013           11          3      2013   \n",
       "3   19/05/13  05/07/13        2013            5         19      2013   \n",
       "4   16/02/13  05/04/13        2013            2         16      2013   \n",
       "\n",
       "   end_month  end_day  \n",
       "0          5        7  \n",
       "1          5        7  \n",
       "2         12        4  \n",
       "3          5        7  \n",
       "4          5        4  "
      ]
     },
     "execution_count": 21,
     "metadata": {},
     "output_type": "execute_result"
    }
   ],
   "source": [
    "df_train.head()"
   ]
  },
  {
   "cell_type": "code",
   "execution_count": 22,
   "metadata": {},
   "outputs": [
    {
     "data": {
      "text/plain": [
       "campaign_id              0\n",
       "coupon_id                0\n",
       "customer_id              0\n",
       "id                       0\n",
       "redemption_status    50226\n",
       "campaign_type            0\n",
       "start_date               0\n",
       "end_date                 0\n",
       "start_year               0\n",
       "start_month              0\n",
       "start_day                0\n",
       "end_year                 0\n",
       "end_month                0\n",
       "end_day                  0\n",
       "dtype: int64"
      ]
     },
     "execution_count": 22,
     "metadata": {},
     "output_type": "execute_result"
    }
   ],
   "source": [
    "df_train.isna().sum()"
   ]
  },
  {
   "cell_type": "markdown",
   "metadata": {},
   "source": [
    "## Customer Demographics"
   ]
  },
  {
   "cell_type": "code",
   "execution_count": 23,
   "metadata": {},
   "outputs": [
    {
     "data": {
      "text/html": [
       "<div>\n",
       "<style scoped>\n",
       "    .dataframe tbody tr th:only-of-type {\n",
       "        vertical-align: middle;\n",
       "    }\n",
       "\n",
       "    .dataframe tbody tr th {\n",
       "        vertical-align: top;\n",
       "    }\n",
       "\n",
       "    .dataframe thead th {\n",
       "        text-align: right;\n",
       "    }\n",
       "</style>\n",
       "<table border=\"1\" class=\"dataframe\">\n",
       "  <thead>\n",
       "    <tr style=\"text-align: right;\">\n",
       "      <th></th>\n",
       "      <th>customer_id</th>\n",
       "      <th>age_range</th>\n",
       "      <th>marital_status</th>\n",
       "      <th>rented</th>\n",
       "      <th>family_size</th>\n",
       "      <th>no_of_children</th>\n",
       "      <th>income_bracket</th>\n",
       "    </tr>\n",
       "  </thead>\n",
       "  <tbody>\n",
       "    <tr>\n",
       "      <th>0</th>\n",
       "      <td>1</td>\n",
       "      <td>70+</td>\n",
       "      <td>Married</td>\n",
       "      <td>0</td>\n",
       "      <td>2</td>\n",
       "      <td>NaN</td>\n",
       "      <td>4</td>\n",
       "    </tr>\n",
       "    <tr>\n",
       "      <th>1</th>\n",
       "      <td>6</td>\n",
       "      <td>46-55</td>\n",
       "      <td>Married</td>\n",
       "      <td>0</td>\n",
       "      <td>2</td>\n",
       "      <td>NaN</td>\n",
       "      <td>5</td>\n",
       "    </tr>\n",
       "    <tr>\n",
       "      <th>2</th>\n",
       "      <td>7</td>\n",
       "      <td>26-35</td>\n",
       "      <td>NaN</td>\n",
       "      <td>0</td>\n",
       "      <td>3</td>\n",
       "      <td>1</td>\n",
       "      <td>3</td>\n",
       "    </tr>\n",
       "    <tr>\n",
       "      <th>3</th>\n",
       "      <td>8</td>\n",
       "      <td>26-35</td>\n",
       "      <td>NaN</td>\n",
       "      <td>0</td>\n",
       "      <td>4</td>\n",
       "      <td>2</td>\n",
       "      <td>6</td>\n",
       "    </tr>\n",
       "    <tr>\n",
       "      <th>4</th>\n",
       "      <td>10</td>\n",
       "      <td>46-55</td>\n",
       "      <td>Single</td>\n",
       "      <td>0</td>\n",
       "      <td>1</td>\n",
       "      <td>NaN</td>\n",
       "      <td>5</td>\n",
       "    </tr>\n",
       "  </tbody>\n",
       "</table>\n",
       "</div>"
      ],
      "text/plain": [
       "   customer_id age_range marital_status  rented family_size no_of_children  \\\n",
       "0            1       70+        Married       0           2            NaN   \n",
       "1            6     46-55        Married       0           2            NaN   \n",
       "2            7     26-35            NaN       0           3              1   \n",
       "3            8     26-35            NaN       0           4              2   \n",
       "4           10     46-55         Single       0           1            NaN   \n",
       "\n",
       "   income_bracket  \n",
       "0               4  \n",
       "1               5  \n",
       "2               3  \n",
       "3               6  \n",
       "4               5  "
      ]
     },
     "execution_count": 23,
     "metadata": {},
     "output_type": "execute_result"
    }
   ],
   "source": [
    "cust_demographs = pd.read_csv('./train_AUpWtIz/customer_demographics.csv')\n",
    "cust_demographs.head()"
   ]
  },
  {
   "cell_type": "code",
   "execution_count": 24,
   "metadata": {},
   "outputs": [
    {
     "data": {
      "text/plain": [
       "customer_id         0\n",
       "age_range           0\n",
       "marital_status    329\n",
       "rented              0\n",
       "family_size         0\n",
       "no_of_children    538\n",
       "income_bracket      0\n",
       "dtype: int64"
      ]
     },
     "execution_count": 24,
     "metadata": {},
     "output_type": "execute_result"
    }
   ],
   "source": [
    "cust_demographs.isna().sum()"
   ]
  },
  {
   "cell_type": "code",
   "execution_count": 25,
   "metadata": {},
   "outputs": [
    {
     "data": {
      "text/plain": [
       "(760, 7)"
      ]
     },
     "execution_count": 25,
     "metadata": {},
     "output_type": "execute_result"
    }
   ],
   "source": [
    "cust_demographs.shape"
   ]
  },
  {
   "cell_type": "code",
   "execution_count": 26,
   "metadata": {},
   "outputs": [
    {
     "data": {
      "text/plain": [
       "{'Married', 'Single', nan}"
      ]
     },
     "execution_count": 26,
     "metadata": {},
     "output_type": "execute_result"
    }
   ],
   "source": [
    "set(cust_demographs['marital_status'])"
   ]
  },
  {
   "cell_type": "code",
   "execution_count": 27,
   "metadata": {},
   "outputs": [
    {
     "data": {
      "text/plain": [
       "Married    317\n",
       "Single     114\n",
       "Name: marital_status, dtype: int64"
      ]
     },
     "execution_count": 27,
     "metadata": {},
     "output_type": "execute_result"
    }
   ],
   "source": [
    "cust_demographs['marital_status'].value_counts()"
   ]
  },
  {
   "cell_type": "code",
   "execution_count": 28,
   "metadata": {},
   "outputs": [
    {
     "data": {
      "text/plain": [
       "1     107\n",
       "3+     60\n",
       "2      55\n",
       "Name: no_of_children, dtype: int64"
      ]
     },
     "execution_count": 28,
     "metadata": {},
     "output_type": "execute_result"
    }
   ],
   "source": [
    "cust_demographs['no_of_children'].value_counts()"
   ]
  },
  {
   "cell_type": "code",
   "execution_count": 29,
   "metadata": {},
   "outputs": [
    {
     "data": {
      "text/plain": [
       "5     187\n",
       "4     165\n",
       "6      88\n",
       "3      70\n",
       "2      68\n",
       "1      59\n",
       "8      37\n",
       "7      32\n",
       "9      29\n",
       "12     10\n",
       "10     10\n",
       "11      5\n",
       "Name: income_bracket, dtype: int64"
      ]
     },
     "execution_count": 29,
     "metadata": {},
     "output_type": "execute_result"
    }
   ],
   "source": [
    "cust_demographs['income_bracket'].value_counts()"
   ]
  },
  {
   "cell_type": "code",
   "execution_count": 30,
   "metadata": {},
   "outputs": [
    {
     "data": {
      "text/plain": [
       "2     303\n",
       "1     248\n",
       "3     104\n",
       "5+     57\n",
       "4      48\n",
       "Name: family_size, dtype: int64"
      ]
     },
     "execution_count": 30,
     "metadata": {},
     "output_type": "execute_result"
    }
   ],
   "source": [
    "cust_demographs['family_size'].value_counts()"
   ]
  },
  {
   "cell_type": "code",
   "execution_count": 31,
   "metadata": {},
   "outputs": [],
   "source": [
    "cust_demographs['no_of_children'] = cust_demographs['no_of_children'].fillna('0')"
   ]
  },
  {
   "cell_type": "code",
   "execution_count": 32,
   "metadata": {},
   "outputs": [
    {
     "data": {
      "text/plain": [
       "customer_id        int64\n",
       "age_range         object\n",
       "marital_status    object\n",
       "rented             int64\n",
       "family_size       object\n",
       "no_of_children    object\n",
       "income_bracket     int64\n",
       "dtype: object"
      ]
     },
     "execution_count": 32,
     "metadata": {},
     "output_type": "execute_result"
    }
   ],
   "source": [
    "cust_demographs.dtypes"
   ]
  },
  {
   "cell_type": "code",
   "execution_count": 33,
   "metadata": {},
   "outputs": [],
   "source": [
    "def fill_marital_status(marital_status, num_child):\n",
    "    if not pd.isnull(marital_status):\n",
    "        return marital_status\n",
    "    elif num_child != '0':\n",
    "        return 'Married'\n",
    "    else:\n",
    "        return 'Single'"
   ]
  },
  {
   "cell_type": "code",
   "execution_count": 34,
   "metadata": {},
   "outputs": [],
   "source": [
    "cust_demographs['marital_status'] = cust_demographs.apply(lambda x: fill_marital_status(x['marital_status'], x['no_of_children']), axis=1)\n"
   ]
  },
  {
   "cell_type": "code",
   "execution_count": 35,
   "metadata": {},
   "outputs": [
    {
     "data": {
      "text/plain": [
       "(760, 7)"
      ]
     },
     "execution_count": 35,
     "metadata": {},
     "output_type": "execute_result"
    }
   ],
   "source": [
    "cust_demographs.shape"
   ]
  },
  {
   "cell_type": "code",
   "execution_count": 36,
   "metadata": {},
   "outputs": [
    {
     "name": "stdout",
     "output_type": "stream",
     "text": [
      "(128595, 14)\n"
     ]
    },
    {
     "data": {
      "text/plain": [
       "campaign_id              0\n",
       "coupon_id                0\n",
       "customer_id              0\n",
       "id                       0\n",
       "redemption_status    50226\n",
       "campaign_type            0\n",
       "start_date               0\n",
       "end_date                 0\n",
       "start_year               0\n",
       "start_month              0\n",
       "start_day                0\n",
       "end_year                 0\n",
       "end_month                0\n",
       "end_day                  0\n",
       "dtype: int64"
      ]
     },
     "execution_count": 36,
     "metadata": {},
     "output_type": "execute_result"
    }
   ],
   "source": [
    "print(df_train.shape)\n",
    "df_train.isna().sum()"
   ]
  },
  {
   "cell_type": "code",
   "execution_count": 37,
   "metadata": {},
   "outputs": [
    {
     "name": "stdout",
     "output_type": "stream",
     "text": [
      "1582\n",
      "760\n"
     ]
    }
   ],
   "source": [
    "print(len(set(df_train['customer_id'])))\n",
    "print(len(set(cust_demographs['customer_id'])))"
   ]
  },
  {
   "cell_type": "code",
   "execution_count": 38,
   "metadata": {},
   "outputs": [],
   "source": [
    "cust_demographs['no_of_children'] = cust_demographs['no_of_children'].replace('3+', 3).astype(float)\n",
    "cust_demographs['family_size'] = cust_demographs['family_size'].replace('5+', 3).astype(float)"
   ]
  },
  {
   "cell_type": "code",
   "execution_count": 39,
   "metadata": {},
   "outputs": [],
   "source": [
    "cust_demographs['marital_status'] = pd.Series(cust_demographs['marital_status'].factorize()[0]).replace(-1, np.nan)\n",
    "cust_demographs['age_range'] = pd.Series(cust_demographs['age_range'].factorize()[0]).replace(-1, np.nan)"
   ]
  },
  {
   "cell_type": "code",
   "execution_count": 40,
   "metadata": {},
   "outputs": [],
   "source": [
    "rented_mean = cust_demographs.groupby(\"customer_id\")['rented'].mean().to_dict()\n",
    "df_train['rented_mean'] = df_train['customer_id'].map(rented_mean)\n",
    "\n",
    "income_bracket_sum = cust_demographs.groupby(\"customer_id\")['income_bracket'].sum().to_dict()\n",
    "df_train['income_bracket_sum'] = df_train['customer_id'].map(income_bracket_sum)\n",
    "# age_range\n",
    "age_range_mean = cust_demographs.groupby(\"customer_id\")['age_range'].mean().to_dict()\n",
    "df_train['age_range_mean'] = df_train['customer_id'].map(age_range_mean)\n",
    "# family_size\n",
    "family_size_mean = cust_demographs.groupby(\"customer_id\")['family_size'].mean().to_dict()\n",
    "df_train['family_size_mean'] = df_train['customer_id'].map(family_size_mean)\n",
    "# no_of_children\n",
    "no_of_children_mean = cust_demographs.groupby(\"customer_id\")['no_of_children'].mean().to_dict()\n",
    "df_train['no_of_children_mean'] = df_train['customer_id'].map(no_of_children_mean)\n",
    "no_of_children_count = cust_demographs.groupby(\"customer_id\")['no_of_children'].count().to_dict()\n",
    "df_train['no_of_children_count'] = df_train['customer_id'].map(no_of_children_count)\n",
    "# marital_status\n",
    "marital_status_count = cust_demographs.groupby(\"customer_id\")['marital_status'].count().to_dict()\n",
    "df_train['marital_status_count'] = df_train['customer_id'].map(marital_status_count)"
   ]
  },
  {
   "cell_type": "markdown",
   "metadata": {},
   "source": [
    "## Customer Transaction Data"
   ]
  },
  {
   "cell_type": "code",
   "execution_count": 42,
   "metadata": {},
   "outputs": [],
   "source": [
    "cust_transact_data = pd.read_csv('./train_AUpWtIz/customer_transaction_data.csv')"
   ]
  },
  {
   "cell_type": "code",
   "execution_count": 43,
   "metadata": {},
   "outputs": [
    {
     "data": {
      "text/html": [
       "<div>\n",
       "<style scoped>\n",
       "    .dataframe tbody tr th:only-of-type {\n",
       "        vertical-align: middle;\n",
       "    }\n",
       "\n",
       "    .dataframe tbody tr th {\n",
       "        vertical-align: top;\n",
       "    }\n",
       "\n",
       "    .dataframe thead th {\n",
       "        text-align: right;\n",
       "    }\n",
       "</style>\n",
       "<table border=\"1\" class=\"dataframe\">\n",
       "  <thead>\n",
       "    <tr style=\"text-align: right;\">\n",
       "      <th></th>\n",
       "      <th>date</th>\n",
       "      <th>customer_id</th>\n",
       "      <th>item_id</th>\n",
       "      <th>quantity</th>\n",
       "      <th>selling_price</th>\n",
       "      <th>other_discount</th>\n",
       "      <th>coupon_discount</th>\n",
       "    </tr>\n",
       "  </thead>\n",
       "  <tbody>\n",
       "    <tr>\n",
       "      <th>0</th>\n",
       "      <td>2012-01-02</td>\n",
       "      <td>1501</td>\n",
       "      <td>26830</td>\n",
       "      <td>1</td>\n",
       "      <td>35.26</td>\n",
       "      <td>-10.69</td>\n",
       "      <td>0.0</td>\n",
       "    </tr>\n",
       "    <tr>\n",
       "      <th>1</th>\n",
       "      <td>2012-01-02</td>\n",
       "      <td>1501</td>\n",
       "      <td>54253</td>\n",
       "      <td>1</td>\n",
       "      <td>53.43</td>\n",
       "      <td>-13.89</td>\n",
       "      <td>0.0</td>\n",
       "    </tr>\n",
       "    <tr>\n",
       "      <th>2</th>\n",
       "      <td>2012-01-02</td>\n",
       "      <td>1501</td>\n",
       "      <td>31962</td>\n",
       "      <td>1</td>\n",
       "      <td>106.50</td>\n",
       "      <td>-14.25</td>\n",
       "      <td>0.0</td>\n",
       "    </tr>\n",
       "    <tr>\n",
       "      <th>3</th>\n",
       "      <td>2012-01-02</td>\n",
       "      <td>1501</td>\n",
       "      <td>33647</td>\n",
       "      <td>1</td>\n",
       "      <td>67.32</td>\n",
       "      <td>0.00</td>\n",
       "      <td>0.0</td>\n",
       "    </tr>\n",
       "    <tr>\n",
       "      <th>4</th>\n",
       "      <td>2012-01-02</td>\n",
       "      <td>1501</td>\n",
       "      <td>48199</td>\n",
       "      <td>1</td>\n",
       "      <td>71.24</td>\n",
       "      <td>-28.14</td>\n",
       "      <td>0.0</td>\n",
       "    </tr>\n",
       "  </tbody>\n",
       "</table>\n",
       "</div>"
      ],
      "text/plain": [
       "         date  customer_id  item_id  quantity  selling_price  other_discount  \\\n",
       "0  2012-01-02         1501    26830         1          35.26          -10.69   \n",
       "1  2012-01-02         1501    54253         1          53.43          -13.89   \n",
       "2  2012-01-02         1501    31962         1         106.50          -14.25   \n",
       "3  2012-01-02         1501    33647         1          67.32            0.00   \n",
       "4  2012-01-02         1501    48199         1          71.24          -28.14   \n",
       "\n",
       "   coupon_discount  \n",
       "0              0.0  \n",
       "1              0.0  \n",
       "2              0.0  \n",
       "3              0.0  \n",
       "4              0.0  "
      ]
     },
     "execution_count": 43,
     "metadata": {},
     "output_type": "execute_result"
    }
   ],
   "source": [
    "cust_transact_data.head()"
   ]
  },
  {
   "cell_type": "code",
   "execution_count": 44,
   "metadata": {},
   "outputs": [],
   "source": [
    "cust_transact_data = cust_transact_data.merge(item_data, on='item_id', how='left')"
   ]
  },
  {
   "cell_type": "markdown",
   "metadata": {},
   "source": [
    "## Aggregate customer transaction data based on customer_id"
   ]
  },
  {
   "cell_type": "code",
   "execution_count": 52,
   "metadata": {},
   "outputs": [],
   "source": [
    "#cust_transact_data = pd.get_dummies(cust_transact_data, columns=['brand_type','category'], drop_first=False)"
   ]
  },
  {
   "cell_type": "code",
   "execution_count": 45,
   "metadata": {},
   "outputs": [
    {
     "data": {
      "text/plain": [
       "Index(['date', 'customer_id', 'item_id', 'quantity', 'selling_price',\n",
       "       'other_discount', 'coupon_discount', 'brand', 'brand_type', 'category'],\n",
       "      dtype='object')"
      ]
     },
     "execution_count": 45,
     "metadata": {},
     "output_type": "execute_result"
    }
   ],
   "source": [
    "cust_transact_data.columns"
   ]
  },
  {
   "cell_type": "code",
   "execution_count": 47,
   "metadata": {},
   "outputs": [],
   "source": [
    "agg_func = {\n",
    "    'item_id': ['count'],\n",
    "    'quantity': ['mean'],\n",
    "    'selling_price': ['mean', 'min', 'max', 'sum'],\n",
    "    'other_discount': ['mean'],\n",
    "    'coupon_discount': ['mean']\n",
    "    #'brand': ['count'],\n",
    "#     'brand_type_Established': ['sum', 'min', 'max', 'mean', 'count'],\n",
    "#     'brand_type_Local': ['sum', 'min', 'max', 'mean', 'count'],\n",
    "#     'category_Alcohol': ['sum', 'min', 'max', 'mean', 'count'],\n",
    "#     'category_Bakery': ['sum', 'min', 'max', 'mean', 'count'],\n",
    "#     'category_Dairy, Juices & Snacks': ['sum', 'min', 'max', 'mean', 'count'],\n",
    "#     'category_Flowers & Plants': ['sum', 'min', 'max', 'mean', 'count'],\n",
    "#     'category_Fuel': ['sum', 'min', 'max', 'mean', 'count'],\n",
    "#     'category_Garden': ['sum', 'min', 'max', 'mean', 'count'],\n",
    "#     'category_Grocery': ['sum', 'min', 'max', 'mean', 'count'],\n",
    "#     'category_Meat': ['sum', 'min', 'max', 'mean', 'count'],\n",
    "#     'category_Miscellaneous': ['sum', 'min', 'max', 'mean', 'count'],\n",
    "#     'category_Natural Products': ['sum', 'min', 'max', 'mean', 'count'],\n",
    "#     'category_Packaged Meat': ['sum', 'min', 'max', 'mean', 'count'],\n",
    "#     'category_Pharmaceutical': ['sum', 'min', 'max', 'mean', 'count'],\n",
    "#     'category_Prepared Food': ['sum', 'min', 'max', 'mean', 'count'],\n",
    "#     'category_Restauarant': ['sum', 'min', 'max', 'mean', 'count'],\n",
    "#     'category_Salads': ['sum', 'min', 'max', 'mean', 'count'],\n",
    "#     'category_Seafood': ['sum', 'min', 'max', 'mean', 'count'],\n",
    "#     'category_Skin & Hair Care': ['sum', 'min', 'max', 'mean', 'count'],\n",
    "#     'category_Travel': ['sum', 'min', 'max', 'mean', 'count'],\n",
    "#     'category_Vegetables (cut)': ['sum', 'min', 'max', 'mean', 'count']\n",
    "}"
   ]
  },
  {
   "cell_type": "code",
   "execution_count": 48,
   "metadata": {},
   "outputs": [],
   "source": [
    "cust_transact_data1 = cust_transact_data.groupby('customer_id').agg(agg_func)"
   ]
  },
  {
   "cell_type": "code",
   "execution_count": 49,
   "metadata": {},
   "outputs": [
    {
     "data": {
      "text/html": [
       "<div>\n",
       "<style scoped>\n",
       "    .dataframe tbody tr th:only-of-type {\n",
       "        vertical-align: middle;\n",
       "    }\n",
       "\n",
       "    .dataframe tbody tr th {\n",
       "        vertical-align: top;\n",
       "    }\n",
       "\n",
       "    .dataframe thead tr th {\n",
       "        text-align: left;\n",
       "    }\n",
       "\n",
       "    .dataframe thead tr:last-of-type th {\n",
       "        text-align: right;\n",
       "    }\n",
       "</style>\n",
       "<table border=\"1\" class=\"dataframe\">\n",
       "  <thead>\n",
       "    <tr>\n",
       "      <th></th>\n",
       "      <th>item_id</th>\n",
       "      <th>quantity</th>\n",
       "      <th colspan=\"4\" halign=\"left\">selling_price</th>\n",
       "      <th>other_discount</th>\n",
       "      <th>coupon_discount</th>\n",
       "    </tr>\n",
       "    <tr>\n",
       "      <th></th>\n",
       "      <th>count</th>\n",
       "      <th>mean</th>\n",
       "      <th>mean</th>\n",
       "      <th>min</th>\n",
       "      <th>max</th>\n",
       "      <th>sum</th>\n",
       "      <th>mean</th>\n",
       "      <th>mean</th>\n",
       "    </tr>\n",
       "    <tr>\n",
       "      <th>customer_id</th>\n",
       "      <th></th>\n",
       "      <th></th>\n",
       "      <th></th>\n",
       "      <th></th>\n",
       "      <th></th>\n",
       "      <th></th>\n",
       "      <th></th>\n",
       "      <th></th>\n",
       "    </tr>\n",
       "  </thead>\n",
       "  <tbody>\n",
       "    <tr>\n",
       "      <th>1</th>\n",
       "      <td>1048</td>\n",
       "      <td>1.170802</td>\n",
       "      <td>94.001842</td>\n",
       "      <td>12.11</td>\n",
       "      <td>445.25</td>\n",
       "      <td>98513.93</td>\n",
       "      <td>-16.250382</td>\n",
       "      <td>-2.019876</td>\n",
       "    </tr>\n",
       "    <tr>\n",
       "      <th>2</th>\n",
       "      <td>419</td>\n",
       "      <td>1.131265</td>\n",
       "      <td>102.864033</td>\n",
       "      <td>14.25</td>\n",
       "      <td>640.80</td>\n",
       "      <td>43100.03</td>\n",
       "      <td>-16.830430</td>\n",
       "      <td>-0.595084</td>\n",
       "    </tr>\n",
       "    <tr>\n",
       "      <th>3</th>\n",
       "      <td>705</td>\n",
       "      <td>11.578723</td>\n",
       "      <td>103.617404</td>\n",
       "      <td>8.90</td>\n",
       "      <td>862.00</td>\n",
       "      <td>73050.27</td>\n",
       "      <td>-22.714227</td>\n",
       "      <td>-3.091546</td>\n",
       "    </tr>\n",
       "    <tr>\n",
       "      <th>4</th>\n",
       "      <td>220</td>\n",
       "      <td>1.272727</td>\n",
       "      <td>154.423727</td>\n",
       "      <td>14.25</td>\n",
       "      <td>1330.05</td>\n",
       "      <td>33973.22</td>\n",
       "      <td>-13.305409</td>\n",
       "      <td>-0.404773</td>\n",
       "    </tr>\n",
       "    <tr>\n",
       "      <th>5</th>\n",
       "      <td>792</td>\n",
       "      <td>117.869949</td>\n",
       "      <td>130.827146</td>\n",
       "      <td>12.11</td>\n",
       "      <td>1485.35</td>\n",
       "      <td>103615.10</td>\n",
       "      <td>-13.657917</td>\n",
       "      <td>-0.114684</td>\n",
       "    </tr>\n",
       "  </tbody>\n",
       "</table>\n",
       "</div>"
      ],
      "text/plain": [
       "            item_id    quantity selling_price                             \\\n",
       "              count        mean          mean    min      max        sum   \n",
       "customer_id                                                                \n",
       "1              1048    1.170802     94.001842  12.11   445.25   98513.93   \n",
       "2               419    1.131265    102.864033  14.25   640.80   43100.03   \n",
       "3               705   11.578723    103.617404   8.90   862.00   73050.27   \n",
       "4               220    1.272727    154.423727  14.25  1330.05   33973.22   \n",
       "5               792  117.869949    130.827146  12.11  1485.35  103615.10   \n",
       "\n",
       "            other_discount coupon_discount  \n",
       "                      mean            mean  \n",
       "customer_id                                 \n",
       "1               -16.250382       -2.019876  \n",
       "2               -16.830430       -0.595084  \n",
       "3               -22.714227       -3.091546  \n",
       "4               -13.305409       -0.404773  \n",
       "5               -13.657917       -0.114684  "
      ]
     },
     "execution_count": 49,
     "metadata": {},
     "output_type": "execute_result"
    }
   ],
   "source": [
    "cust_transact_data1.head()"
   ]
  },
  {
   "cell_type": "code",
   "execution_count": 50,
   "metadata": {},
   "outputs": [
    {
     "data": {
      "text/html": [
       "<div>\n",
       "<style scoped>\n",
       "    .dataframe tbody tr th:only-of-type {\n",
       "        vertical-align: middle;\n",
       "    }\n",
       "\n",
       "    .dataframe tbody tr th {\n",
       "        vertical-align: top;\n",
       "    }\n",
       "\n",
       "    .dataframe thead th {\n",
       "        text-align: right;\n",
       "    }\n",
       "</style>\n",
       "<table border=\"1\" class=\"dataframe\">\n",
       "  <thead>\n",
       "    <tr style=\"text-align: right;\">\n",
       "      <th></th>\n",
       "      <th>customer_id</th>\n",
       "      <th>J_item_id_count</th>\n",
       "      <th>J_quantity_mean</th>\n",
       "      <th>J_selling_price_mean</th>\n",
       "      <th>J_selling_price_min</th>\n",
       "      <th>J_selling_price_max</th>\n",
       "      <th>J_selling_price_sum</th>\n",
       "      <th>J_other_discount_mean</th>\n",
       "      <th>J_coupon_discount_mean</th>\n",
       "    </tr>\n",
       "  </thead>\n",
       "  <tbody>\n",
       "    <tr>\n",
       "      <th>0</th>\n",
       "      <td>1</td>\n",
       "      <td>1048</td>\n",
       "      <td>1.170802</td>\n",
       "      <td>94.001842</td>\n",
       "      <td>12.11</td>\n",
       "      <td>445.25</td>\n",
       "      <td>98513.93</td>\n",
       "      <td>-16.250382</td>\n",
       "      <td>-2.019876</td>\n",
       "    </tr>\n",
       "    <tr>\n",
       "      <th>1</th>\n",
       "      <td>2</td>\n",
       "      <td>419</td>\n",
       "      <td>1.131265</td>\n",
       "      <td>102.864033</td>\n",
       "      <td>14.25</td>\n",
       "      <td>640.80</td>\n",
       "      <td>43100.03</td>\n",
       "      <td>-16.830430</td>\n",
       "      <td>-0.595084</td>\n",
       "    </tr>\n",
       "    <tr>\n",
       "      <th>2</th>\n",
       "      <td>3</td>\n",
       "      <td>705</td>\n",
       "      <td>11.578723</td>\n",
       "      <td>103.617404</td>\n",
       "      <td>8.90</td>\n",
       "      <td>862.00</td>\n",
       "      <td>73050.27</td>\n",
       "      <td>-22.714227</td>\n",
       "      <td>-3.091546</td>\n",
       "    </tr>\n",
       "    <tr>\n",
       "      <th>3</th>\n",
       "      <td>4</td>\n",
       "      <td>220</td>\n",
       "      <td>1.272727</td>\n",
       "      <td>154.423727</td>\n",
       "      <td>14.25</td>\n",
       "      <td>1330.05</td>\n",
       "      <td>33973.22</td>\n",
       "      <td>-13.305409</td>\n",
       "      <td>-0.404773</td>\n",
       "    </tr>\n",
       "    <tr>\n",
       "      <th>4</th>\n",
       "      <td>5</td>\n",
       "      <td>792</td>\n",
       "      <td>117.869949</td>\n",
       "      <td>130.827146</td>\n",
       "      <td>12.11</td>\n",
       "      <td>1485.35</td>\n",
       "      <td>103615.10</td>\n",
       "      <td>-13.657917</td>\n",
       "      <td>-0.114684</td>\n",
       "    </tr>\n",
       "  </tbody>\n",
       "</table>\n",
       "</div>"
      ],
      "text/plain": [
       "   customer_id  J_item_id_count  J_quantity_mean  J_selling_price_mean  \\\n",
       "0            1             1048         1.170802             94.001842   \n",
       "1            2              419         1.131265            102.864033   \n",
       "2            3              705        11.578723            103.617404   \n",
       "3            4              220         1.272727            154.423727   \n",
       "4            5              792       117.869949            130.827146   \n",
       "\n",
       "   J_selling_price_min  J_selling_price_max  J_selling_price_sum  \\\n",
       "0                12.11               445.25             98513.93   \n",
       "1                14.25               640.80             43100.03   \n",
       "2                 8.90               862.00             73050.27   \n",
       "3                14.25              1330.05             33973.22   \n",
       "4                12.11              1485.35            103615.10   \n",
       "\n",
       "   J_other_discount_mean  J_coupon_discount_mean  \n",
       "0             -16.250382               -2.019876  \n",
       "1             -16.830430               -0.595084  \n",
       "2             -22.714227               -3.091546  \n",
       "3             -13.305409               -0.404773  \n",
       "4             -13.657917               -0.114684  "
      ]
     },
     "execution_count": 50,
     "metadata": {},
     "output_type": "execute_result"
    }
   ],
   "source": [
    "cust_transact_data1.columns = ['J_' + '_'.join(col).strip() for col in cust_transact_data1.columns.values]\n",
    "cust_transact_data1.reset_index(inplace=True)\n",
    "cust_transact_data1.head()"
   ]
  },
  {
   "cell_type": "code",
   "execution_count": 51,
   "metadata": {},
   "outputs": [
    {
     "data": {
      "text/plain": [
       "(1582, 9)"
      ]
     },
     "execution_count": 51,
     "metadata": {},
     "output_type": "execute_result"
    }
   ],
   "source": [
    "cust_transact_data1.shape"
   ]
  },
  {
   "cell_type": "code",
   "execution_count": 52,
   "metadata": {},
   "outputs": [
    {
     "data": {
      "text/html": [
       "<div>\n",
       "<style scoped>\n",
       "    .dataframe tbody tr th:only-of-type {\n",
       "        vertical-align: middle;\n",
       "    }\n",
       "\n",
       "    .dataframe tbody tr th {\n",
       "        vertical-align: top;\n",
       "    }\n",
       "\n",
       "    .dataframe thead th {\n",
       "        text-align: right;\n",
       "    }\n",
       "</style>\n",
       "<table border=\"1\" class=\"dataframe\">\n",
       "  <thead>\n",
       "    <tr style=\"text-align: right;\">\n",
       "      <th></th>\n",
       "      <th>campaign_id</th>\n",
       "      <th>coupon_id</th>\n",
       "      <th>customer_id</th>\n",
       "      <th>id</th>\n",
       "      <th>redemption_status</th>\n",
       "      <th>campaign_type</th>\n",
       "      <th>start_date</th>\n",
       "      <th>end_date</th>\n",
       "      <th>start_year</th>\n",
       "      <th>start_month</th>\n",
       "      <th>...</th>\n",
       "      <th>end_year</th>\n",
       "      <th>end_month</th>\n",
       "      <th>end_day</th>\n",
       "      <th>rented_mean</th>\n",
       "      <th>income_bracket_sum</th>\n",
       "      <th>age_range_mean</th>\n",
       "      <th>family_size_mean</th>\n",
       "      <th>no_of_children_mean</th>\n",
       "      <th>no_of_children_count</th>\n",
       "      <th>marital_status_count</th>\n",
       "    </tr>\n",
       "  </thead>\n",
       "  <tbody>\n",
       "    <tr>\n",
       "      <th>0</th>\n",
       "      <td>13</td>\n",
       "      <td>27</td>\n",
       "      <td>1053</td>\n",
       "      <td>1</td>\n",
       "      <td>0.0</td>\n",
       "      <td>X</td>\n",
       "      <td>19/05/13</td>\n",
       "      <td>05/07/13</td>\n",
       "      <td>2013</td>\n",
       "      <td>5</td>\n",
       "      <td>...</td>\n",
       "      <td>2013</td>\n",
       "      <td>5</td>\n",
       "      <td>7</td>\n",
       "      <td>0.0</td>\n",
       "      <td>5.0</td>\n",
       "      <td>1.0</td>\n",
       "      <td>1.0</td>\n",
       "      <td>0.0</td>\n",
       "      <td>1.0</td>\n",
       "      <td>1.0</td>\n",
       "    </tr>\n",
       "    <tr>\n",
       "      <th>1</th>\n",
       "      <td>13</td>\n",
       "      <td>116</td>\n",
       "      <td>48</td>\n",
       "      <td>2</td>\n",
       "      <td>0.0</td>\n",
       "      <td>X</td>\n",
       "      <td>19/05/13</td>\n",
       "      <td>05/07/13</td>\n",
       "      <td>2013</td>\n",
       "      <td>5</td>\n",
       "      <td>...</td>\n",
       "      <td>2013</td>\n",
       "      <td>5</td>\n",
       "      <td>7</td>\n",
       "      <td>0.0</td>\n",
       "      <td>3.0</td>\n",
       "      <td>3.0</td>\n",
       "      <td>2.0</td>\n",
       "      <td>0.0</td>\n",
       "      <td>1.0</td>\n",
       "      <td>1.0</td>\n",
       "    </tr>\n",
       "    <tr>\n",
       "      <th>2</th>\n",
       "      <td>9</td>\n",
       "      <td>635</td>\n",
       "      <td>205</td>\n",
       "      <td>6</td>\n",
       "      <td>0.0</td>\n",
       "      <td>Y</td>\n",
       "      <td>11/03/13</td>\n",
       "      <td>12/04/13</td>\n",
       "      <td>2013</td>\n",
       "      <td>11</td>\n",
       "      <td>...</td>\n",
       "      <td>2013</td>\n",
       "      <td>12</td>\n",
       "      <td>4</td>\n",
       "      <td>0.0</td>\n",
       "      <td>7.0</td>\n",
       "      <td>1.0</td>\n",
       "      <td>2.0</td>\n",
       "      <td>0.0</td>\n",
       "      <td>1.0</td>\n",
       "      <td>1.0</td>\n",
       "    </tr>\n",
       "    <tr>\n",
       "      <th>3</th>\n",
       "      <td>13</td>\n",
       "      <td>644</td>\n",
       "      <td>1050</td>\n",
       "      <td>7</td>\n",
       "      <td>0.0</td>\n",
       "      <td>X</td>\n",
       "      <td>19/05/13</td>\n",
       "      <td>05/07/13</td>\n",
       "      <td>2013</td>\n",
       "      <td>5</td>\n",
       "      <td>...</td>\n",
       "      <td>2013</td>\n",
       "      <td>5</td>\n",
       "      <td>7</td>\n",
       "      <td>NaN</td>\n",
       "      <td>NaN</td>\n",
       "      <td>NaN</td>\n",
       "      <td>NaN</td>\n",
       "      <td>NaN</td>\n",
       "      <td>NaN</td>\n",
       "      <td>NaN</td>\n",
       "    </tr>\n",
       "    <tr>\n",
       "      <th>4</th>\n",
       "      <td>8</td>\n",
       "      <td>1017</td>\n",
       "      <td>1489</td>\n",
       "      <td>9</td>\n",
       "      <td>0.0</td>\n",
       "      <td>X</td>\n",
       "      <td>16/02/13</td>\n",
       "      <td>05/04/13</td>\n",
       "      <td>2013</td>\n",
       "      <td>2</td>\n",
       "      <td>...</td>\n",
       "      <td>2013</td>\n",
       "      <td>5</td>\n",
       "      <td>4</td>\n",
       "      <td>0.0</td>\n",
       "      <td>3.0</td>\n",
       "      <td>1.0</td>\n",
       "      <td>2.0</td>\n",
       "      <td>0.0</td>\n",
       "      <td>1.0</td>\n",
       "      <td>1.0</td>\n",
       "    </tr>\n",
       "  </tbody>\n",
       "</table>\n",
       "<p>5 rows × 21 columns</p>\n",
       "</div>"
      ],
      "text/plain": [
       "   campaign_id  coupon_id  customer_id  id  redemption_status campaign_type  \\\n",
       "0           13         27         1053   1                0.0             X   \n",
       "1           13        116           48   2                0.0             X   \n",
       "2            9        635          205   6                0.0             Y   \n",
       "3           13        644         1050   7                0.0             X   \n",
       "4            8       1017         1489   9                0.0             X   \n",
       "\n",
       "  start_date  end_date  start_year  start_month          ...           \\\n",
       "0   19/05/13  05/07/13        2013            5          ...            \n",
       "1   19/05/13  05/07/13        2013            5          ...            \n",
       "2   11/03/13  12/04/13        2013           11          ...            \n",
       "3   19/05/13  05/07/13        2013            5          ...            \n",
       "4   16/02/13  05/04/13        2013            2          ...            \n",
       "\n",
       "   end_year  end_month  end_day  rented_mean  income_bracket_sum  \\\n",
       "0      2013          5        7          0.0                 5.0   \n",
       "1      2013          5        7          0.0                 3.0   \n",
       "2      2013         12        4          0.0                 7.0   \n",
       "3      2013          5        7          NaN                 NaN   \n",
       "4      2013          5        4          0.0                 3.0   \n",
       "\n",
       "   age_range_mean  family_size_mean  no_of_children_mean  \\\n",
       "0             1.0               1.0                  0.0   \n",
       "1             3.0               2.0                  0.0   \n",
       "2             1.0               2.0                  0.0   \n",
       "3             NaN               NaN                  NaN   \n",
       "4             1.0               2.0                  0.0   \n",
       "\n",
       "   no_of_children_count  marital_status_count  \n",
       "0                   1.0                   1.0  \n",
       "1                   1.0                   1.0  \n",
       "2                   1.0                   1.0  \n",
       "3                   NaN                   NaN  \n",
       "4                   1.0                   1.0  \n",
       "\n",
       "[5 rows x 21 columns]"
      ]
     },
     "execution_count": 52,
     "metadata": {},
     "output_type": "execute_result"
    }
   ],
   "source": [
    "df_train.head()"
   ]
  },
  {
   "cell_type": "code",
   "execution_count": 53,
   "metadata": {},
   "outputs": [],
   "source": [
    "df_train.drop(['id', 'start_date', 'end_date'], axis=1, inplace=True)"
   ]
  },
  {
   "cell_type": "code",
   "execution_count": 54,
   "metadata": {},
   "outputs": [
    {
     "data": {
      "text/plain": [
       "(128595, 18)"
      ]
     },
     "execution_count": 54,
     "metadata": {},
     "output_type": "execute_result"
    }
   ],
   "source": [
    "df_train.shape"
   ]
  },
  {
   "cell_type": "code",
   "execution_count": 55,
   "metadata": {},
   "outputs": [],
   "source": [
    "df_train = df_train.merge(cust_transact_data1, on='customer_id', how='left')"
   ]
  },
  {
   "cell_type": "code",
   "execution_count": 56,
   "metadata": {},
   "outputs": [
    {
     "data": {
      "text/plain": [
       "(128595, 26)"
      ]
     },
     "execution_count": 56,
     "metadata": {},
     "output_type": "execute_result"
    }
   ],
   "source": [
    "df_train.shape"
   ]
  },
  {
   "cell_type": "markdown",
   "metadata": {},
   "source": [
    "## Aggregate item data based on item_id corresponding to the coupon id"
   ]
  },
  {
   "cell_type": "code",
   "execution_count": 57,
   "metadata": {},
   "outputs": [],
   "source": [
    "coupon_item_map = coupon_item_map.merge(item_data, how = 'left', on = 'item_id')\n",
    "coupon_item_map['brand_type'] = pd.Series(coupon_item_map['brand_type'].factorize()[0]).replace(-1, np.nan)\n",
    "coupon_item_map['category'] = pd.Series(coupon_item_map['category'].factorize()[0]).replace(-1, np.nan)\n",
    "\n",
    "category = coupon_item_map.groupby(\"coupon_id\")['category'].mean().to_dict()\n",
    "df_train['category_mean'] = df_train['coupon_id'].map(category)\n",
    "category = coupon_item_map.groupby(\"coupon_id\")['category'].count().to_dict()\n",
    "df_train['category_count'] = df_train['coupon_id'].map(category)\n",
    "category = coupon_item_map.groupby(\"coupon_id\")['category'].nunique().to_dict()\n",
    "df_train['category_nunique'] = df_train['coupon_id'].map(category)\n",
    "category = coupon_item_map.groupby(\"coupon_id\")['category'].max().to_dict()\n",
    "df_train['category_max'] = df_train['coupon_id'].map(category)\n",
    "category = coupon_item_map.groupby(\"coupon_id\")['category'].min().to_dict()\n",
    "df_train['category_min'] = df_train['coupon_id'].map(category)\n",
    "\n",
    "brand_mean = coupon_item_map.groupby(\"coupon_id\")['brand'].mean().to_dict()\n",
    "df_train['brand_mean'] = df_train['coupon_id'].map(brand_mean)\n",
    "brand_mean = coupon_item_map.groupby(\"coupon_id\")['brand'].count().to_dict()\n",
    "df_train['brand_count'] = df_train['coupon_id'].map(brand_mean)\n",
    "brand_mean = coupon_item_map.groupby(\"coupon_id\")['brand'].min().to_dict()\n",
    "df_train['brand_min'] = df_train['coupon_id'].map(brand_mean)\n",
    "brand_mean = coupon_item_map.groupby(\"coupon_id\")['brand'].max().to_dict()\n",
    "df_train['brand_max'] = df_train['coupon_id'].map(brand_mean)\n",
    "brand_mean = coupon_item_map.groupby(\"coupon_id\")['brand'].nunique().to_dict()\n",
    "df_train['brand_nunique'] = df_train['coupon_id'].map(brand_mean)"
   ]
  },
  {
   "cell_type": "code",
   "execution_count": 58,
   "metadata": {},
   "outputs": [
    {
     "data": {
      "text/html": [
       "<div>\n",
       "<style scoped>\n",
       "    .dataframe tbody tr th:only-of-type {\n",
       "        vertical-align: middle;\n",
       "    }\n",
       "\n",
       "    .dataframe tbody tr th {\n",
       "        vertical-align: top;\n",
       "    }\n",
       "\n",
       "    .dataframe thead th {\n",
       "        text-align: right;\n",
       "    }\n",
       "</style>\n",
       "<table border=\"1\" class=\"dataframe\">\n",
       "  <thead>\n",
       "    <tr style=\"text-align: right;\">\n",
       "      <th></th>\n",
       "      <th>campaign_id</th>\n",
       "      <th>coupon_id</th>\n",
       "      <th>customer_id</th>\n",
       "      <th>redemption_status</th>\n",
       "      <th>campaign_type</th>\n",
       "      <th>start_year</th>\n",
       "      <th>start_month</th>\n",
       "      <th>start_day</th>\n",
       "      <th>end_year</th>\n",
       "      <th>end_month</th>\n",
       "      <th>...</th>\n",
       "      <th>category_mean</th>\n",
       "      <th>category_count</th>\n",
       "      <th>category_nunique</th>\n",
       "      <th>category_max</th>\n",
       "      <th>category_min</th>\n",
       "      <th>brand_mean</th>\n",
       "      <th>brand_count</th>\n",
       "      <th>brand_min</th>\n",
       "      <th>brand_max</th>\n",
       "      <th>brand_nunique</th>\n",
       "    </tr>\n",
       "  </thead>\n",
       "  <tbody>\n",
       "    <tr>\n",
       "      <th>0</th>\n",
       "      <td>13</td>\n",
       "      <td>27</td>\n",
       "      <td>1053</td>\n",
       "      <td>0.0</td>\n",
       "      <td>X</td>\n",
       "      <td>2013</td>\n",
       "      <td>5</td>\n",
       "      <td>19</td>\n",
       "      <td>2013</td>\n",
       "      <td>5</td>\n",
       "      <td>...</td>\n",
       "      <td>0.0</td>\n",
       "      <td>125</td>\n",
       "      <td>1</td>\n",
       "      <td>0</td>\n",
       "      <td>0</td>\n",
       "      <td>1364.128</td>\n",
       "      <td>125</td>\n",
       "      <td>1105</td>\n",
       "      <td>1636</td>\n",
       "      <td>2</td>\n",
       "    </tr>\n",
       "    <tr>\n",
       "      <th>1</th>\n",
       "      <td>13</td>\n",
       "      <td>116</td>\n",
       "      <td>48</td>\n",
       "      <td>0.0</td>\n",
       "      <td>X</td>\n",
       "      <td>2013</td>\n",
       "      <td>5</td>\n",
       "      <td>19</td>\n",
       "      <td>2013</td>\n",
       "      <td>5</td>\n",
       "      <td>...</td>\n",
       "      <td>0.0</td>\n",
       "      <td>3</td>\n",
       "      <td>1</td>\n",
       "      <td>0</td>\n",
       "      <td>0</td>\n",
       "      <td>56.000</td>\n",
       "      <td>3</td>\n",
       "      <td>56</td>\n",
       "      <td>56</td>\n",
       "      <td>1</td>\n",
       "    </tr>\n",
       "    <tr>\n",
       "      <th>2</th>\n",
       "      <td>9</td>\n",
       "      <td>635</td>\n",
       "      <td>205</td>\n",
       "      <td>0.0</td>\n",
       "      <td>Y</td>\n",
       "      <td>2013</td>\n",
       "      <td>11</td>\n",
       "      <td>3</td>\n",
       "      <td>2013</td>\n",
       "      <td>12</td>\n",
       "      <td>...</td>\n",
       "      <td>3.0</td>\n",
       "      <td>67</td>\n",
       "      <td>1</td>\n",
       "      <td>3</td>\n",
       "      <td>3</td>\n",
       "      <td>560.000</td>\n",
       "      <td>67</td>\n",
       "      <td>560</td>\n",
       "      <td>560</td>\n",
       "      <td>1</td>\n",
       "    </tr>\n",
       "    <tr>\n",
       "      <th>3</th>\n",
       "      <td>13</td>\n",
       "      <td>644</td>\n",
       "      <td>1050</td>\n",
       "      <td>0.0</td>\n",
       "      <td>X</td>\n",
       "      <td>2013</td>\n",
       "      <td>5</td>\n",
       "      <td>19</td>\n",
       "      <td>2013</td>\n",
       "      <td>5</td>\n",
       "      <td>...</td>\n",
       "      <td>0.0</td>\n",
       "      <td>4</td>\n",
       "      <td>1</td>\n",
       "      <td>0</td>\n",
       "      <td>0</td>\n",
       "      <td>611.000</td>\n",
       "      <td>4</td>\n",
       "      <td>611</td>\n",
       "      <td>611</td>\n",
       "      <td>1</td>\n",
       "    </tr>\n",
       "    <tr>\n",
       "      <th>4</th>\n",
       "      <td>8</td>\n",
       "      <td>1017</td>\n",
       "      <td>1489</td>\n",
       "      <td>0.0</td>\n",
       "      <td>X</td>\n",
       "      <td>2013</td>\n",
       "      <td>2</td>\n",
       "      <td>16</td>\n",
       "      <td>2013</td>\n",
       "      <td>5</td>\n",
       "      <td>...</td>\n",
       "      <td>0.0</td>\n",
       "      <td>32</td>\n",
       "      <td>1</td>\n",
       "      <td>0</td>\n",
       "      <td>0</td>\n",
       "      <td>1558.000</td>\n",
       "      <td>32</td>\n",
       "      <td>1558</td>\n",
       "      <td>1558</td>\n",
       "      <td>1</td>\n",
       "    </tr>\n",
       "  </tbody>\n",
       "</table>\n",
       "<p>5 rows × 36 columns</p>\n",
       "</div>"
      ],
      "text/plain": [
       "   campaign_id  coupon_id  customer_id  redemption_status campaign_type  \\\n",
       "0           13         27         1053                0.0             X   \n",
       "1           13        116           48                0.0             X   \n",
       "2            9        635          205                0.0             Y   \n",
       "3           13        644         1050                0.0             X   \n",
       "4            8       1017         1489                0.0             X   \n",
       "\n",
       "   start_year  start_month  start_day  end_year  end_month      ...        \\\n",
       "0        2013            5         19      2013          5      ...         \n",
       "1        2013            5         19      2013          5      ...         \n",
       "2        2013           11          3      2013         12      ...         \n",
       "3        2013            5         19      2013          5      ...         \n",
       "4        2013            2         16      2013          5      ...         \n",
       "\n",
       "   category_mean  category_count  category_nunique  category_max  \\\n",
       "0            0.0             125                 1             0   \n",
       "1            0.0               3                 1             0   \n",
       "2            3.0              67                 1             3   \n",
       "3            0.0               4                 1             0   \n",
       "4            0.0              32                 1             0   \n",
       "\n",
       "   category_min  brand_mean  brand_count  brand_min  brand_max  brand_nunique  \n",
       "0             0    1364.128          125       1105       1636              2  \n",
       "1             0      56.000            3         56         56              1  \n",
       "2             3     560.000           67        560        560              1  \n",
       "3             0     611.000            4        611        611              1  \n",
       "4             0    1558.000           32       1558       1558              1  \n",
       "\n",
       "[5 rows x 36 columns]"
      ]
     },
     "execution_count": 58,
     "metadata": {},
     "output_type": "execute_result"
    }
   ],
   "source": [
    "df_train.head()"
   ]
  },
  {
   "cell_type": "markdown",
   "metadata": {},
   "source": [
    "## Final Training set"
   ]
  },
  {
   "cell_type": "code",
   "execution_count": 59,
   "metadata": {},
   "outputs": [
    {
     "data": {
      "text/plain": [
       "(128595, 36)"
      ]
     },
     "execution_count": 59,
     "metadata": {},
     "output_type": "execute_result"
    }
   ],
   "source": [
    "df_train.shape"
   ]
  },
  {
   "cell_type": "markdown",
   "metadata": {},
   "source": [
    "## Label Encoding"
   ]
  },
  {
   "cell_type": "code",
   "execution_count": 60,
   "metadata": {},
   "outputs": [
    {
     "data": {
      "text/plain": [
       "campaign_id                 int64\n",
       "coupon_id                   int64\n",
       "customer_id                 int64\n",
       "redemption_status         float64\n",
       "campaign_type              object\n",
       "start_year                  int64\n",
       "start_month                 int64\n",
       "start_day                   int64\n",
       "end_year                    int64\n",
       "end_month                   int64\n",
       "end_day                     int64\n",
       "rented_mean               float64\n",
       "income_bracket_sum        float64\n",
       "age_range_mean            float64\n",
       "family_size_mean          float64\n",
       "no_of_children_mean       float64\n",
       "no_of_children_count      float64\n",
       "marital_status_count      float64\n",
       "J_item_id_count             int64\n",
       "J_quantity_mean           float64\n",
       "J_selling_price_mean      float64\n",
       "J_selling_price_min       float64\n",
       "J_selling_price_max       float64\n",
       "J_selling_price_sum       float64\n",
       "J_other_discount_mean     float64\n",
       "J_coupon_discount_mean    float64\n",
       "category_mean             float64\n",
       "category_count              int64\n",
       "category_nunique            int64\n",
       "category_max                int64\n",
       "category_min                int64\n",
       "brand_mean                float64\n",
       "brand_count                 int64\n",
       "brand_min                   int64\n",
       "brand_max                   int64\n",
       "brand_nunique               int64\n",
       "dtype: object"
      ]
     },
     "execution_count": 60,
     "metadata": {},
     "output_type": "execute_result"
    }
   ],
   "source": [
    "df_train.dtypes"
   ]
  },
  {
   "cell_type": "code",
   "execution_count": 78,
   "metadata": {},
   "outputs": [],
   "source": [
    "lb_encoder = LabelEncoder()\n",
    "df_train['campaign_type'] = lb_encoder.fit_transform(df_train['campaign_type'])"
   ]
  },
  {
   "cell_type": "code",
   "execution_count": 133,
   "metadata": {},
   "outputs": [
    {
     "data": {
      "text/plain": [
       "<matplotlib.axes._subplots.AxesSubplot at 0x1a1b99a160>"
      ]
     },
     "execution_count": 133,
     "metadata": {},
     "output_type": "execute_result"
    },
    {
     "data": {
      "image/png": "[encoded data removed]",
      "text/plain": [
       "<Figure size 720x720 with 2 Axes>"
      ]
     },
     "metadata": {},
     "output_type": "display_data"
    }
   ],
   "source": [
    "plt.figure(figsize=(10, 10))\n",
    "sns.heatmap(df_train.corr(), fmt='.2f', annot=True)"
   ]
  },
  {
   "cell_type": "code",
   "execution_count": 79,
   "metadata": {},
   "outputs": [
    {
     "name": "stderr",
     "output_type": "stream",
     "text": [
      "/Users/Technocrat/anaconda3/lib/python3.6/site-packages/ipykernel_launcher.py:3: SettingWithCopyWarning: \n",
      "A value is trying to be set on a copy of a slice from a DataFrame\n",
      "\n",
      "See the caveats in the documentation: http://pandas.pydata.org/pandas-docs/stable/indexing.html#indexing-view-versus-copy\n",
      "  This is separate from the ipykernel package so we can avoid doing imports until\n"
     ]
    }
   ],
   "source": [
    "train = df_train[df_train['redemption_status'].isnull() != True]\n",
    "test = df_train[df_train['redemption_status'].isnull() == True]\n",
    "test.drop(['redemption_status'], axis=1, inplace=True)"
   ]
  },
  {
   "cell_type": "code",
   "execution_count": 80,
   "metadata": {},
   "outputs": [
    {
     "name": "stdout",
     "output_type": "stream",
     "text": [
      "Train set shape (78369, 36)\n",
      "Test set shape (50226, 35)\n"
     ]
    }
   ],
   "source": [
    "print('Train set shape', train.shape)\n",
    "print('Test set shape', test.shape)"
   ]
  },
  {
   "cell_type": "markdown",
   "metadata": {},
   "source": [
    "## Modeling"
   ]
  },
  {
   "cell_type": "code",
   "execution_count": 81,
   "metadata": {},
   "outputs": [],
   "source": [
    "X = train.drop(labels=['redemption_status'], axis=1)\n",
    "y = train['redemption_status']"
   ]
  },
  {
   "cell_type": "code",
   "execution_count": 82,
   "metadata": {},
   "outputs": [
    {
     "data": {
      "text/plain": [
       "campaign_id                 int64\n",
       "coupon_id                   int64\n",
       "customer_id                 int64\n",
       "campaign_type               int64\n",
       "start_year                  int64\n",
       "start_month                 int64\n",
       "start_day                   int64\n",
       "end_year                    int64\n",
       "end_month                   int64\n",
       "end_day                     int64\n",
       "rented_mean               float64\n",
       "income_bracket_sum        float64\n",
       "age_range_mean            float64\n",
       "family_size_mean          float64\n",
       "no_of_children_mean       float64\n",
       "no_of_children_count      float64\n",
       "marital_status_count      float64\n",
       "J_item_id_count             int64\n",
       "J_quantity_mean           float64\n",
       "J_selling_price_mean      float64\n",
       "J_selling_price_min       float64\n",
       "J_selling_price_max       float64\n",
       "J_selling_price_sum       float64\n",
       "J_other_discount_mean     float64\n",
       "J_coupon_discount_mean    float64\n",
       "category_mean             float64\n",
       "category_count              int64\n",
       "category_nunique            int64\n",
       "category_max                int64\n",
       "category_min                int64\n",
       "brand_mean                float64\n",
       "brand_count                 int64\n",
       "brand_min                   int64\n",
       "brand_max                   int64\n",
       "brand_nunique               int64\n",
       "dtype: object"
      ]
     },
     "execution_count": 82,
     "metadata": {},
     "output_type": "execute_result"
    }
   ],
   "source": [
    "#sc = StandardScaler()\n",
    "#X = sc.fit_transform(X)\n",
    "X.dtypes"
   ]
  },
  {
   "cell_type": "code",
   "execution_count": 83,
   "metadata": {},
   "outputs": [],
   "source": [
    "X_train, X_cv, y_train, y_cv = train_test_split(X, y, test_size=0.2, stratify=y, random_state=42)"
   ]
  },
  {
   "cell_type": "markdown",
   "metadata": {},
   "source": [
    "## Using 10-Fold cross-validation with CatBoost Classifier"
   ]
  },
  {
   "cell_type": "code",
   "execution_count": 104,
   "metadata": {},
   "outputs": [],
   "source": [
    "def run_cv_model(train, test, target, model_fn, params={}, eval_fn=None, label='model', n_folds=5):\n",
    "    kf = StratifiedKFold(n_splits=n_folds, shuffle = True, random_state = 228)\n",
    "    fold_splits = kf.split(train, target)\n",
    "    cv_scores = []\n",
    "    pred_full_test = 0\n",
    "    pred_train = np.zeros((train.shape[0]))\n",
    "    feature_importances = pd.DataFrame()\n",
    "    feature_importances['feature'] = test.columns\n",
    "    i = 1\n",
    "    for dev_index, val_index in fold_splits:\n",
    "        print('-------------------------------------------')\n",
    "        print('Started ' + label + ' fold ' + str(i) + f'/{n_folds}')\n",
    "        dev_X, val_X = train.iloc[dev_index], train.iloc[val_index]\n",
    "        dev_y, val_y = target.iloc[dev_index], target.iloc[val_index]\n",
    "        params2 = params.copy()\n",
    "        pred_val_y, pred_test_y, fi = model_fn(dev_X, dev_y, val_X, val_y, test, params2)\n",
    "        #feature_importances[f'fold_{i}'] = fi\n",
    "        pred_full_test = pred_full_test + pred_test_y\n",
    "        pred_train[val_index] = pred_val_y\n",
    "        if eval_fn is not None:\n",
    "            cv_score = eval_fn(val_y, pred_val_y)\n",
    "            cv_scores.append(cv_score)\n",
    "            print(label + ' cv score {}: {}'.format(i, cv_score), '\\n')\n",
    "        i += 1\n",
    "    print('{} cv scores : {}'.format(label, cv_scores))\n",
    "    print('{} cv mean score : {}'.format(label, np.mean(cv_scores)))\n",
    "    print('{} cv std score : {}'.format(label, np.std(cv_scores)))\n",
    "    pred_full_test = pred_full_test / n_folds\n",
    "    results = {'label': label,\n",
    "              'train': pred_train, 'test': pred_full_test,\n",
    "              'cv': cv_scores, 'fi': feature_importances}\n",
    "    return results\n",
    "\n",
    "\n",
    "def runCAT(train_X, train_y, test_X, test_y, test_X2, params):\n",
    "    # Pool the data and specify the categorical feature indices\n",
    "    print('Pool Data')\n",
    "    _train = Pool(train_X, label=train_y)\n",
    "    _valid = Pool(test_X, label=test_y)    \n",
    "    print('Train CAT')\n",
    "    model = CatBoostClassifier(**params)\n",
    "    fit_model = model.fit(_train,\n",
    "                          eval_set=_valid,\n",
    "                          use_best_model=True,\n",
    "                          verbose=1000,\n",
    "                          plot=False)\n",
    "    feature_im = fit_model.feature_importances_\n",
    "    print('Predict 1/2')\n",
    "    pred_test_y = fit_model.predict_proba(test_X)[:, 1]\n",
    "    \n",
    "    print('Predict 2/2')\n",
    "    pred_test_y2 = fit_model.predict_proba(test_X2)[:, 1]\n",
    "    return pred_test_y, pred_test_y2, feature_im"
   ]
  },
  {
   "cell_type": "code",
   "execution_count": 114,
   "metadata": {},
   "outputs": [],
   "source": [
    "#clf = RandomForestClassifier(class_weight={0:1, 1:2})\n",
    "#clf = RandomForestRegressor()\n",
    "#clf = LGBMRegressor(boosting_type='gbdt', learning_rate=0.1, n_estimators=100)  #best 0.78777 (LB)\n",
    "#clf = xgb.XGBRegressor(max_depth=5)\n",
    "#clf = CatBoostClassifier()  # 0.78404 (LB)\n",
    "#clf = LogisticRegression()\n",
    "\n",
    "clf = LGBMClassifier(boosting_type='gbdt', learning_rate=0.1, n_estimators=100)\n",
    "#clf = clf.fit(X_train, y_train)\n",
    "clf = clf.fit(X, y)"
   ]
  },
  {
   "cell_type": "code",
   "execution_count": 112,
   "metadata": {},
   "outputs": [],
   "source": [
    "pred_cv = clf.predict_proba(X_cv)"
   ]
  },
  {
   "cell_type": "code",
   "execution_count": 113,
   "metadata": {},
   "outputs": [
    {
     "data": {
      "text/plain": [
       "0.9393847967083765"
      ]
     },
     "execution_count": 113,
     "metadata": {},
     "output_type": "execute_result"
    }
   ],
   "source": [
    "roc_auc_score(y_cv, pred_cv[:, 1])"
   ]
  },
  {
   "cell_type": "markdown",
   "metadata": {},
   "source": [
    "## Working on real test set"
   ]
  },
  {
   "cell_type": "code",
   "execution_count": 105,
   "metadata": {},
   "outputs": [],
   "source": [
    "X_test = test"
   ]
  },
  {
   "cell_type": "code",
   "execution_count": 106,
   "metadata": {},
   "outputs": [
    {
     "name": "stdout",
     "output_type": "stream",
     "text": [
      "(50226, 35)\n"
     ]
    }
   ],
   "source": [
    "print(X_test.shape)"
   ]
  },
  {
   "cell_type": "code",
   "execution_count": 107,
   "metadata": {},
   "outputs": [
    {
     "name": "stdout",
     "output_type": "stream",
     "text": [
      "-------------------------------------------\n",
      "Started cat fold 1/10\n",
      "Pool Data\n",
      "Train CAT\n",
      "0:\ttest: 0.8708343\tbest: 0.8708343 (0)\ttotal: 38.5ms\tremaining: 6m 24s\n",
      "Stopped by overfitting detector  (150 iterations wait)\n",
      "\n",
      "bestTest = 0.8954888385\n",
      "bestIteration = 14\n",
      "\n",
      "Shrink model to first 15 iterations.\n",
      "Predict 1/2\n",
      "Predict 2/2\n",
      "cat cv score 1: 0.8954888385453057 \n",
      "\n",
      "-------------------------------------------\n",
      "Started cat fold 2/10\n",
      "Pool Data\n",
      "Train CAT\n",
      "0:\ttest: 0.8232499\tbest: 0.8232499 (0)\ttotal: 40.8ms\tremaining: 6m 47s\n",
      "Stopped by overfitting detector  (150 iterations wait)\n",
      "\n",
      "bestTest = 0.8609440833\n",
      "bestIteration = 5\n",
      "\n",
      "Shrink model to first 6 iterations.\n",
      "Predict 1/2\n",
      "Predict 2/2\n",
      "cat cv score 2: 0.8609440833350976 \n",
      "\n",
      "-------------------------------------------\n",
      "Started cat fold 3/10\n",
      "Pool Data\n",
      "Train CAT\n",
      "0:\ttest: 0.8315760\tbest: 0.8315760 (0)\ttotal: 45.5ms\tremaining: 7m 34s\n",
      "Stopped by overfitting detector  (150 iterations wait)\n",
      "\n",
      "bestTest = 0.89182599\n",
      "bestIteration = 6\n",
      "\n",
      "Shrink model to first 7 iterations.\n",
      "Predict 1/2\n",
      "Predict 2/2\n",
      "cat cv score 3: 0.8918259899924483 \n",
      "\n",
      "-------------------------------------------\n",
      "Started cat fold 4/10\n",
      "Pool Data\n",
      "Train CAT\n",
      "0:\ttest: 0.8414759\tbest: 0.8414759 (0)\ttotal: 46.1ms\tremaining: 7m 41s\n",
      "Stopped by overfitting detector  (150 iterations wait)\n",
      "\n",
      "bestTest = 0.8534278334\n",
      "bestIteration = 5\n",
      "\n",
      "Shrink model to first 6 iterations.\n",
      "Predict 1/2\n",
      "Predict 2/2\n",
      "cat cv score 4: 0.8534278334144947 \n",
      "\n",
      "-------------------------------------------\n",
      "Started cat fold 5/10\n",
      "Pool Data\n",
      "Train CAT\n",
      "0:\ttest: 0.8422311\tbest: 0.8422311 (0)\ttotal: 46.2ms\tremaining: 7m 41s\n",
      "Stopped by overfitting detector  (150 iterations wait)\n",
      "\n",
      "bestTest = 0.8737843436\n",
      "bestIteration = 3\n",
      "\n",
      "Shrink model to first 4 iterations.\n",
      "Predict 1/2\n",
      "Predict 2/2\n",
      "cat cv score 5: 0.8737843436161278 \n",
      "\n",
      "-------------------------------------------\n",
      "Started cat fold 6/10\n",
      "Pool Data\n",
      "Train CAT\n",
      "0:\ttest: 0.8373923\tbest: 0.8373923 (0)\ttotal: 45.3ms\tremaining: 7m 32s\n",
      "Stopped by overfitting detector  (150 iterations wait)\n",
      "\n",
      "bestTest = 0.8886254085\n",
      "bestIteration = 5\n",
      "\n",
      "Shrink model to first 6 iterations.\n",
      "Predict 1/2\n",
      "Predict 2/2\n",
      "cat cv score 6: 0.8886254084534875 \n",
      "\n",
      "-------------------------------------------\n",
      "Started cat fold 7/10\n",
      "Pool Data\n",
      "Train CAT\n",
      "0:\ttest: 0.8453267\tbest: 0.8453267 (0)\ttotal: 47.4ms\tremaining: 7m 53s\n",
      "Stopped by overfitting detector  (150 iterations wait)\n",
      "\n",
      "bestTest = 0.8601615817\n",
      "bestIteration = 8\n",
      "\n",
      "Shrink model to first 9 iterations.\n",
      "Predict 1/2\n",
      "Predict 2/2\n",
      "cat cv score 7: 0.8601615817295138 \n",
      "\n",
      "-------------------------------------------\n",
      "Started cat fold 8/10\n",
      "Pool Data\n",
      "Train CAT\n",
      "0:\ttest: 0.8292250\tbest: 0.8292250 (0)\ttotal: 44.6ms\tremaining: 7m 25s\n",
      "Stopped by overfitting detector  (150 iterations wait)\n",
      "\n",
      "bestTest = 0.8806477737\n",
      "bestIteration = 7\n",
      "\n",
      "Shrink model to first 8 iterations.\n",
      "Predict 1/2\n",
      "Predict 2/2\n",
      "cat cv score 8: 0.8806477737079461 \n",
      "\n",
      "-------------------------------------------\n",
      "Started cat fold 9/10\n",
      "Pool Data\n",
      "Train CAT\n",
      "0:\ttest: 0.8258824\tbest: 0.8258824 (0)\ttotal: 43.5ms\tremaining: 7m 15s\n",
      "Stopped by overfitting detector  (150 iterations wait)\n",
      "\n",
      "bestTest = 0.8822895274\n",
      "bestIteration = 7\n",
      "\n",
      "Shrink model to first 8 iterations.\n",
      "Predict 1/2\n",
      "Predict 2/2\n",
      "cat cv score 9: 0.8822895273584439 \n",
      "\n",
      "-------------------------------------------\n",
      "Started cat fold 10/10\n",
      "Pool Data\n",
      "Train CAT\n",
      "0:\ttest: 0.8947555\tbest: 0.8947555 (0)\ttotal: 43ms\tremaining: 7m 10s\n",
      "1000:\ttest: 0.9464927\tbest: 0.9464927 (1000)\ttotal: 38.6s\tremaining: 5m 46s\n",
      "2000:\ttest: 0.9530132\tbest: 0.9530150 (1999)\ttotal: 1m 7s\tremaining: 4m 28s\n",
      "3000:\ttest: 0.9560954\tbest: 0.9561330 (2966)\ttotal: 1m 37s\tremaining: 3m 46s\n",
      "4000:\ttest: 0.9579308\tbest: 0.9580006 (3981)\ttotal: 2m 6s\tremaining: 3m 10s\n",
      "Stopped by overfitting detector  (150 iterations wait)\n",
      "\n",
      "bestTest = 0.9580006011\n",
      "bestIteration = 3981\n",
      "\n",
      "Shrink model to first 3982 iterations.\n",
      "Predict 1/2\n",
      "Predict 2/2\n",
      "cat cv score 10: 0.9580006010647433 \n",
      "\n",
      "cat cv scores : [0.8954888385453057, 0.8609440833350976, 0.8918259899924483, 0.8534278334144947, 0.8737843436161278, 0.8886254084534875, 0.8601615817295138, 0.8806477737079461, 0.8822895273584439, 0.9580006010647433]\n",
      "cat cv mean score : 0.8845195981217608\n",
      "cat cv std score : 0.028001872600701125\n"
     ]
    }
   ],
   "source": [
    "# Use some baseline parameters\n",
    "cat_params = {'loss_function': 'CrossEntropy', \n",
    "              'eval_metric': \"AUC\",\n",
    "              'learning_rate': 0.01,\n",
    "              'iterations': 10000,\n",
    "              'random_seed': 42,\n",
    "              'od_type': \"Iter\",\n",
    "              'early_stopping_rounds': 150,\n",
    "             }\n",
    "\n",
    "n_folds = 10\n",
    "results = run_cv_model(X.fillna(0), X_test.fillna(0), y, runCAT, cat_params, roc_auc_score, 'cat', n_folds=n_folds)"
   ]
  },
  {
   "cell_type": "code",
   "execution_count": 118,
   "metadata": {},
   "outputs": [],
   "source": [
    "#pred_test = clf.predict_proba(X_test)"
   ]
  },
  {
   "cell_type": "code",
   "execution_count": 108,
   "metadata": {},
   "outputs": [],
   "source": [
    "#pred_test[:, 1]"
   ]
  },
  {
   "cell_type": "code",
   "execution_count": 109,
   "metadata": {},
   "outputs": [
    {
     "data": {
      "text/html": [
       "<div>\n",
       "<style scoped>\n",
       "    .dataframe tbody tr th:only-of-type {\n",
       "        vertical-align: middle;\n",
       "    }\n",
       "\n",
       "    .dataframe tbody tr th {\n",
       "        vertical-align: top;\n",
       "    }\n",
       "\n",
       "    .dataframe thead th {\n",
       "        text-align: right;\n",
       "    }\n",
       "</style>\n",
       "<table border=\"1\" class=\"dataframe\">\n",
       "  <thead>\n",
       "    <tr style=\"text-align: right;\">\n",
       "      <th></th>\n",
       "      <th>id</th>\n",
       "      <th>redemption_status</th>\n",
       "    </tr>\n",
       "  </thead>\n",
       "  <tbody>\n",
       "    <tr>\n",
       "      <th>0</th>\n",
       "      <td>3</td>\n",
       "      <td>0</td>\n",
       "    </tr>\n",
       "    <tr>\n",
       "      <th>1</th>\n",
       "      <td>4</td>\n",
       "      <td>0</td>\n",
       "    </tr>\n",
       "    <tr>\n",
       "      <th>2</th>\n",
       "      <td>5</td>\n",
       "      <td>0</td>\n",
       "    </tr>\n",
       "    <tr>\n",
       "      <th>3</th>\n",
       "      <td>8</td>\n",
       "      <td>0</td>\n",
       "    </tr>\n",
       "    <tr>\n",
       "      <th>4</th>\n",
       "      <td>10</td>\n",
       "      <td>0</td>\n",
       "    </tr>\n",
       "  </tbody>\n",
       "</table>\n",
       "</div>"
      ],
      "text/plain": [
       "   id  redemption_status\n",
       "0   3                  0\n",
       "1   4                  0\n",
       "2   5                  0\n",
       "3   8                  0\n",
       "4  10                  0"
      ]
     },
     "execution_count": 109,
     "metadata": {},
     "output_type": "execute_result"
    }
   ],
   "source": [
    "submission = pd.read_csv('sample_submission_Byiv0dS.csv')\n",
    "submission.head()"
   ]
  },
  {
   "cell_type": "code",
   "execution_count": 110,
   "metadata": {},
   "outputs": [],
   "source": [
    "tmp = dict(zip(submission.id.values, results['test']))\n",
    "answer1 = pd.DataFrame()\n",
    "answer1['id'] = submission.id.values\n",
    "answer1['redemption_status'] = answer1['id'].map(tmp)\n",
    "answer1.to_csv('submission3.csv', index = None)"
   ]
  },
  {
   "cell_type": "code",
   "execution_count": 121,
   "metadata": {},
   "outputs": [],
   "source": [
    "#submission['redemption_status'] = pred_test[:, 1]"
   ]
  },
  {
   "cell_type": "code",
   "execution_count": 103,
   "metadata": {},
   "outputs": [],
   "source": [
    "#submission.head()"
   ]
  },
  {
   "cell_type": "code",
   "execution_count": 123,
   "metadata": {},
   "outputs": [],
   "source": [
    "#submission.to_csv('./submission.csv', index=False)"
   ]
  },
  {
   "cell_type": "code",
   "execution_count": null,
   "metadata": {},
   "outputs": [],
   "source": []
  }
 ],
 "metadata": {
  "kernelspec": {
   "display_name": "Python 3",
   "language": "python",
   "name": "python3"
  },
  "language_info": {
   "codemirror_mode": {
    "name": "ipython",
    "version": 3
   },
   "file_extension": ".py",
   "mimetype": "text/x-python",
   "name": "python",
   "nbconvert_exporter": "python",
   "pygments_lexer": "ipython3",
   "version": "3.6.8"
  }
 },
 "nbformat": 4,
 "nbformat_minor": 2
}
